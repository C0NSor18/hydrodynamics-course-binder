{
 "cells": [
  {
   "cell_type": "markdown",
   "metadata": {},
   "source": [
    "# Schematized model of the Waal River"
   ]
  },
  {
   "cell_type": "markdown",
   "metadata": {},
   "source": [
    "## Purpose "
   ]
  },
  {
   "cell_type": "markdown",
   "metadata": {},
   "source": [
    "In this exercise, we consider a 90 km long stretch of the Waal River. For simplicity, the stretch is represented as a straight flume, with constant bed slope. Depending on the flow discharge, the bed roughness and the downstream water level boundary condition, different flow regimes can occur. The simplest form - which can also be computed analytically - is a uniform channel flow situation, where a constant (equilibrium) water depth $H^{eq}$ and a constant flow velocity $u$ develop along the full length of the model.\n",
    "\n",
    "A different flow situation can occur when the discharge is higher/lower than the equilibrium discharge (belonging to the equilibrium depth $H^{eq}$. A steady example of such a flow situation is a backwater/Bélanger curve and a dynamic case is a river flood wave. "
   ]
  },
  {
   "cell_type": "markdown",
   "metadata": {},
   "source": [
    "## Aim"
   ]
  },
  {
   "cell_type": "markdown",
   "metadata": {},
   "source": [
    "The aim of this exercise is twofold. First, we inspect whether a 1D numerical model (with many assumptions!) can represent the analytical solution of uniform channel flow. This can be done for different combinations of boundary conditions and the bottom friction coefficient. Second, we will see that if the boundary conditions (together with the bottom friction coefficient) do not correnspond to the situation of uniform channel flow, a backwater or Bélanger curve will develop."
   ]
  },
  {
   "cell_type": "markdown",
   "metadata": {},
   "source": [
    "## Approach"
   ]
  },
  {
   "cell_type": "markdown",
   "metadata": {},
   "source": [
    "First we set up the model to compute uniform channel flow. Our river stretch is a simplified version of the Waal River in the Netherlands, from the city of Pannerden to the city of Werkendam (see Figure 1). The river/channel has the following dimensions:\n",
    "\n",
    "Length $L$ = 90 km <br>\n",
    "Width $W$ = 250 m <br>\n",
    "Bed slope $i_b$ = 1e-4 m/m (positive downwards)\n",
    "\n",
    "Additionally, we prescribe a steady discharge $Q$ = 1000 m$^3$/s and a Ch\\'ezy value of $C$ = 50 m$^{1/2}$/s. Using the Ch\\'ezy formula we can now compute the equilibrium depth that should theoretically develop for these channel/flow characteristics:\n",
    "\n",
    "$u = C \\sqrt{R i_b}$ , or <br>\n",
    "$u = C \\sqrt{H^{eq} i_b}$ .\n",
    "\n",
    "where we assumed $R = H$, which can be considered valid for our wide channel/river section. Now we use $u = Q / (BH)$ and rewrite the equation for the equilibrium depth $H^{eq}$:\n",
    "\n",
    "$H^{eq} = \\left( \\frac{Q}{B C \\sqrt{i_b}} \\right)^{2/3}$ .\n",
    "\n",
    "Filling in the chosen values for $Q$, $B$, $C$ and $i_b$, one obtains an equilibrium depth $H^{eq}$ = 4 m.\n",
    "This flow situation is depicted in Figure 1."
   ]
  },
  {
   "cell_type": "markdown",
   "metadata": {},
   "source": [
    "<img src=\"./figures/uniform_channel_flow.png\" alt=\"Drawing\" style=\"float: left\" style=\"width: 800px;\"/>"
   ]
  },
  {
   "cell_type": "markdown",
   "metadata": {},
   "source": [
    "Figure 1: The uniform channel flow situation for the schematic model of the Waal River."
   ]
  },
  {
   "cell_type": "markdown",
   "metadata": {},
   "source": [
    "Now we can start the exercise. Follow the steps below to inspect the different model states (uniform channel flow, backwater curve) and try different settings for the model parameters."
   ]
  },
  {
   "cell_type": "markdown",
   "metadata": {},
   "source": [
    "## Step 1a)"
   ]
  },
  {
   "cell_type": "markdown",
   "metadata": {},
   "source": [
    "Specify the upstream and downstream water levels, corresponding to the uniform channel flow situation described below. Verify that indeed such a flow situation is reproduced by the model. Do we obtain the correct equilibrium depth $H^{eq}$ = 4 m?"
   ]
  },
  {
   "cell_type": "markdown",
   "metadata": {},
   "source": [
    "## Step 1b)"
   ]
  },
  {
   "cell_type": "markdown",
   "metadata": {},
   "source": [
    "Can you think of a reason why prescibing the downstream water level to be exactly the $H_{eq}$ did not suffice?\n",
    "A hint: At what position (x-coordinate) is the downstream water level boundary prescribed? Does the bed slope then influence the required boundary condition? Can you prescribed a different downstream boundary water level, to obtain the equilibrium depth of $H_{eq}$ = 4 m?\n",
    "\n",
    "At this point you should have obtained a nice uniform channel flow with constant water depth and constant flow velocity. Can you compute the flow velocity? "
   ]
  },
  {
   "cell_type": "markdown",
   "metadata": {},
   "source": [
    "## Step 1c)\n"
   ]
  },
  {
   "cell_type": "markdown",
   "metadata": {},
   "source": [
    "Can you try a different combination of the discharge $Q$ and the Chézy coefficient $C$, that also gives an equilibrium depth of 4 m?"
   ]
  },
  {
   "cell_type": "markdown",
   "metadata": {},
   "source": [
    "This concludes the end of the first part of the exercise. The second part will focus on the Bélanger or backwater curves."
   ]
  },
  {
   "cell_type": "markdown",
   "metadata": {},
   "source": [
    "## Step 1d)"
   ]
  },
  {
   "cell_type": "markdown",
   "metadata": {},
   "source": [
    "Try and increase the bottom friction coefficient, for instance by 10%. What do you expect?\n",
    "Now decrease the bottom friction coefficient, for instance by a factor of 2. What do you expect now?"
   ]
  },
  {
   "cell_type": "markdown",
   "metadata": {},
   "source": [
    "## Step 1e)"
   ]
  },
  {
   "cell_type": "markdown",
   "metadata": {},
   "source": []
  },
  {
   "cell_type": "code",
   "execution_count": null,
   "metadata": {},
   "outputs": [],
   "source": []
  }
 ],
 "metadata": {
  "kernelspec": {
   "display_name": "Python 3",
   "language": "python",
   "name": "python3"
  },
  "language_info": {
   "codemirror_mode": {
    "name": "ipython",
    "version": 3
   },
   "file_extension": ".py",
   "mimetype": "text/x-python",
   "name": "python",
   "nbconvert_exporter": "python",
   "pygments_lexer": "ipython3",
   "version": "3.7.2"
  }
 },
 "nbformat": 4,
 "nbformat_minor": 2
}
