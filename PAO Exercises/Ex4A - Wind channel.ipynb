{
 "cells": [
  {
   "cell_type": "markdown",
   "metadata": {},
   "source": [
    "# Wind channel"
   ]
  },
  {
   "cell_type": "code",
   "execution_count": 1,
   "metadata": {},
   "outputs": [],
   "source": [
    "# Imports\n",
    "import bmi\n",
    "import bmi.wrapper\n",
    "import ipywidgets as widgets\n",
    "from ipywidgets import HBox, VBox, interactive, Layout, interact\n",
    "import numpy as np\n",
    "import time\n",
    "import os\n",
    "# Something very fishy happening if I don't define a plot first.\n",
    "import matplotlib\n",
    "from mpl_toolkits.axes_grid1 import make_axes_locatable\n",
    "\n",
    "%matplotlib notebook\n",
    "import matplotlib.pyplot as plt\n",
    "import sys\n",
    "plt.ioff()\n",
    "_ = plt.figure()\n",
    "plt.ion()\n",
    "\n",
    "# Toggle button for hiding the raw code\n",
    "# from IPython.display import HTML\n",
    "# HTML('''<script>\n",
    "# code_show=true; \n",
    "# function code_toggle() {\n",
    "#  if (code_show){\n",
    "#  $('div.input').hide();\n",
    "#  } else {\n",
    "#  $('div.input').show();\n",
    "#  }\n",
    "#  code_show = !code_show\n",
    "# } \n",
    "# $( document ).ready(code_toggle);\n",
    "# </script>\n",
    "# The raw code for this IPython notebook is by default hidden for easier reading.\n",
    "# To toggle on/off the raw code, click <a href=\"javascript:code_toggle()\">here</a>.''')\n"
   ]
  },
  {
   "cell_type": "code",
   "execution_count": 2,
   "metadata": {},
   "outputs": [],
   "source": [
    "# import netCDF4 as nc\n",
    "# data = nc.Dataset(\"\")"
   ]
  },
  {
   "cell_type": "code",
   "execution_count": 3,
   "metadata": {},
   "outputs": [],
   "source": [
    "# sys.path.append(\"d:\\checkouts\\oss_trunk\\src\\bin\\x64\\share\\bin\")\n",
    "# engine = r'd:\\checkouts\\oss_trunk\\src\\bin\\x64\\dflowfm\\bin\\dflowfm'\n",
    "# mdufile = r'd:\\projects\\PAO_cursus\\hyd_opp_water_2018\\tests\\c015_manning_schematic_river\\manning_schematic_river.mdu'\n",
    "# wrapper = bmi.wrapper.BMIWrapper(engine=engine);\n",
    "\n",
    "# # Cindy\n",
    "engine = r'C:\\Users\\vries_cy\\OneDrive - Stichting Deltares\\Desktop\\DFM-old\\share\\bin\\dflowfm'\n",
    "wrapper = bmi.wrapper.BMIWrapper(engine=engine);\n",
    "engine = r'C:\\Users\\vries_cy\\OneDrive - Stichting Deltares\\Desktop\\DFM\\x64\\dflowfm\\bin\\dflowfm'\n",
    "mdufile = r'D:\\hydrodynamics-course-binder\\PAO Models\\Channel_new\\t1.mdu'\n",
    "# mdufile = r'C:\\Users\\vries_cy\\PAOTM cursus\\river\\manning_schematic_river.mdu'\n",
    "#engine = r'C:\\Users\\vries_cy\\OneDrive - Stichting Deltares\\Desktop\\DFM-old\\share\\bin\\dflowfm'\n",
    "#wrapper = bmi.wrapper.BMIWrapper(engine=engine);\n",
    "# print(os.getcwd())\n",
    "# engine = os.path.join(os.getcwd(),'..','..','x64','dflowfm','bin','dflowfm')\n",
    "# print(engine)\n",
    "# mdufile = os.path.join(os.getcwd(),'..','PAO Models','Channel_new','t2.mdu')\n",
    "# print(mdufile)"
   ]
  },
  {
   "cell_type": "code",
   "execution_count": 4,
   "metadata": {},
   "outputs": [
    {
     "data": {
      "text/plain": [
       "0"
      ]
     },
     "execution_count": 4,
     "metadata": {},
     "output_type": "execute_result"
    }
   ],
   "source": [
    "data = []\n",
    "items = []\n",
    "wrapper = bmi.wrapper.BMIWrapper(engine=engine, configfile=mdufile)\n",
    "wrapper.initialize()\n",
    "wrapper.update()"
   ]
  },
  {
   "cell_type": "code",
   "execution_count": 5,
   "metadata": {},
   "outputs": [
    {
     "name": "stdout",
     "output_type": "stream",
     "text": [
      "120.0 5184000.0\n"
     ]
    }
   ],
   "source": [
    "wrapper.update()\n",
    "print(wrapper.get_current_time(), wrapper.get_end_time())"
   ]
  },
  {
   "cell_type": "code",
   "execution_count": 6,
   "metadata": {
    "scrolled": false
   },
   "outputs": [],
   "source": [
    "# for i in range(wrapper.get_var_count()):\n",
    "#     print(wrapper.get_var_name(i), wrapper.get_var_shape(wrapper.get_var_name(i)))"
   ]
  },
  {
   "cell_type": "code",
   "execution_count": 7,
   "metadata": {},
   "outputs": [
    {
     "name": "stdout",
     "output_type": "stream",
     "text": [
      "100\n"
     ]
    }
   ],
   "source": [
    "print(wrapper.get_var(\"ndxi\"))"
   ]
  },
  {
   "cell_type": "code",
   "execution_count": 8,
   "metadata": {},
   "outputs": [],
   "source": [
    "# x = wrapper.get_var(\"xz\")\n",
    "# y = wrapper.get_var(\"yz\")\n",
    "# zws = wrapper.get_var(\"zws\")\n",
    "# print(np.shape(zws))\n",
    "# plt.figure()\n",
    "# plt.plot(x, y)"
   ]
  },
  {
   "cell_type": "code",
   "execution_count": 13,
   "metadata": {},
   "outputs": [],
   "source": [
    "maxsteps = 10000\n",
    "parameters = []\n",
    "parameters = [\n",
    "    {\n",
    "        \"parameter\": \"wx\",\n",
    "        \"description\": \"Wind velocity $[m/s]$\",\n",
    "        \"default\": 15\n",
    "    }\n",
    "]"
   ]
  },
  {
   "cell_type": "code",
   "execution_count": 14,
   "metadata": {},
   "outputs": [],
   "source": [
    "# Create widgets\n",
    "style = {'description_width': 'initial'}\n",
    "\n",
    "run = widgets.Button(\n",
    "    description='Run model',\n",
    "    button_style='',\n",
    "    icon='play'\n",
    ")\n",
    "update = widgets.Button(\n",
    "    description='Single update',\n",
    "    button_style='',\n",
    "    tooltip='Update with 1 timestep',\n",
    "    icon='step-forward'\n",
    ")\n",
    "restart = widgets.Button(\n",
    "    description='Restart model',\n",
    "    button_style='',\n",
    "    tooltip='Restart entire model with initial inputs',\n",
    "    icon='retweet'\n",
    ")\n",
    "\n",
    "settings = widgets.HTML(\n",
    "    value=\"Welcome!\",\n",
    "    placeholder='Input settings'\n",
    ")\n",
    "\n",
    "play = widgets.Play(\n",
    "#     interval=10,\n",
    "    value=0,\n",
    "    min=0,\n",
    "    max=int(wrapper.get_end_time()),\n",
    "    step=1,\n",
    "    description=\"Press play\",\n",
    "    disabled=False\n",
    ")\n",
    "\n",
    "\n",
    "nsteps = widgets.BoundedIntText(\n",
    "    description=\"Number of timesteps\",\n",
    "    value=100,\n",
    "    min=0,\n",
    "    max=maxsteps,\n",
    "    style=style,\n",
    "    layout=Layout(width='15vw')\n",
    ")\n",
    "\n",
    "slider = widgets.IntSlider(  \n",
    "    min=0,\n",
    "    max=1,\n",
    "    value=0\n",
    ")\n",
    "\n",
    "sliceslider = widgets.IntSlider(  \n",
    "    description=\"Change position of slice\",\n",
    "    min=0,\n",
    "    max=1,\n",
    ")\n",
    "\n",
    "widgets.jslink((play, 'value'), (slider, 'value'))\n",
    "player = widgets.HBox([play, slider])\n",
    "\n",
    "# parameters = [\"zbndz\", \"zbndq\", \"frcu\"]\n",
    "# p_descrip = [\"Boundary Water level\", \"Boundary Discharge\", \"Roughness Chézy\"]\n",
    "\n",
    "items=[]\n",
    "for p in parameters: \n",
    "    items.append(widgets.Text(\n",
    "        description=p[\"description\"],\n",
    "        disabled=False,\n",
    "        value=str(p[\"default\"]),\n",
    "        placeholder=p[\"parameter\"],\n",
    "        style=style,\n",
    "        layout=Layout(width='50vw')\n",
    "    ))"
   ]
  },
  {
   "cell_type": "code",
   "execution_count": 15,
   "metadata": {},
   "outputs": [],
   "source": [
    "# parameters[0][\"default\"]"
   ]
  },
  {
   "cell_type": "code",
   "execution_count": 16,
   "metadata": {},
   "outputs": [
    {
     "name": "stdout",
     "output_type": "stream",
     "text": [
      "100\n",
      "41\n"
     ]
    },
    {
     "ename": "ValueError",
     "evalue": "type not found for variable turkin1",
     "output_type": "error",
     "traceback": [
      "\u001b[1;31m---------------------------------------------------------------------------\u001b[0m",
      "\u001b[1;31mValueError\u001b[0m                                Traceback (most recent call last)",
      "\u001b[1;32m<ipython-input-16-ace6b726007f>\u001b[0m in \u001b[0;36m<module>\u001b[1;34m\u001b[0m\n\u001b[0;32m     35\u001b[0m     \u001b[0mslider\u001b[0m\u001b[1;33m.\u001b[0m\u001b[0mmax\u001b[0m \u001b[1;33m=\u001b[0m \u001b[0mlen\u001b[0m\u001b[1;33m(\u001b[0m\u001b[0mdata\u001b[0m\u001b[1;33m)\u001b[0m\u001b[1;33m\u001b[0m\u001b[1;33m\u001b[0m\u001b[0m\n\u001b[0;32m     36\u001b[0m     \u001b[0msettings\u001b[0m\u001b[1;33m.\u001b[0m\u001b[0mvalue\u001b[0m \u001b[1;33m=\u001b[0m \u001b[1;34m\"Model update, timestep: {}\"\u001b[0m\u001b[1;33m.\u001b[0m\u001b[0mformat\u001b[0m\u001b[1;33m(\u001b[0m\u001b[0mdata\u001b[0m\u001b[1;33m[\u001b[0m\u001b[1;33m-\u001b[0m\u001b[1;36m1\u001b[0m\u001b[1;33m]\u001b[0m\u001b[1;33m[\u001b[0m\u001b[1;34m\"time\"\u001b[0m\u001b[1;33m]\u001b[0m\u001b[1;33m)\u001b[0m\u001b[1;33m\u001b[0m\u001b[1;33m\u001b[0m\u001b[0m\n\u001b[1;32m---> 37\u001b[1;33m \u001b[0mupdate_data\u001b[0m\u001b[1;33m(\u001b[0m\u001b[1;33m)\u001b[0m\u001b[1;33m\u001b[0m\u001b[1;33m\u001b[0m\u001b[0m\n\u001b[0m",
      "\u001b[1;32m<ipython-input-16-ace6b726007f>\u001b[0m in \u001b[0;36mupdate_data\u001b[1;34m()\u001b[0m\n\u001b[0;32m     22\u001b[0m     \u001b[0mzws\u001b[0m \u001b[1;33m=\u001b[0m \u001b[0mwrapper\u001b[0m\u001b[1;33m.\u001b[0m\u001b[0mget_var\u001b[0m\u001b[1;33m(\u001b[0m\u001b[1;34m'zws'\u001b[0m\u001b[1;33m)\u001b[0m\u001b[1;33m[\u001b[0m\u001b[0mlX\u001b[0m\u001b[1;33m:\u001b[0m\u001b[1;33m]\u001b[0m\u001b[1;33m.\u001b[0m\u001b[0mcopy\u001b[0m\u001b[1;33m(\u001b[0m\u001b[1;33m)\u001b[0m\u001b[1;33m\u001b[0m\u001b[1;33m\u001b[0m\u001b[0m\n\u001b[0;32m     23\u001b[0m     \u001b[0mtemp\u001b[0m \u001b[1;33m=\u001b[0m \u001b[0mwrapper\u001b[0m\u001b[1;33m.\u001b[0m\u001b[0mget_var\u001b[0m\u001b[1;33m(\u001b[0m\u001b[1;34m'temperature'\u001b[0m\u001b[1;33m)\u001b[0m\u001b[1;33m[\u001b[0m\u001b[0mlX\u001b[0m\u001b[1;33m:\u001b[0m\u001b[1;33m]\u001b[0m\u001b[1;33m.\u001b[0m\u001b[0mcopy\u001b[0m\u001b[1;33m(\u001b[0m\u001b[1;33m)\u001b[0m\u001b[1;33m\u001b[0m\u001b[1;33m\u001b[0m\u001b[0m\n\u001b[1;32m---> 24\u001b[1;33m     \u001b[0mk\u001b[0m \u001b[1;33m=\u001b[0m \u001b[0mwrapper\u001b[0m\u001b[1;33m.\u001b[0m\u001b[0mget_var\u001b[0m\u001b[1;33m(\u001b[0m\u001b[1;34m'turkin1'\u001b[0m\u001b[1;33m)\u001b[0m\u001b[1;33m[\u001b[0m\u001b[0mlX\u001b[0m\u001b[1;33m:\u001b[0m\u001b[1;33m]\u001b[0m\u001b[1;33m.\u001b[0m\u001b[0mcopy\u001b[0m\u001b[1;33m(\u001b[0m\u001b[1;33m)\u001b[0m\u001b[1;33m\u001b[0m\u001b[1;33m\u001b[0m\u001b[0m\n\u001b[0m\u001b[0;32m     25\u001b[0m \u001b[1;33m\u001b[0m\u001b[0m\n\u001b[0;32m     26\u001b[0m     data.append(dict({\n",
      "\u001b[1;32m~\\AppData\\Local\\Continuum\\anaconda3\\envs\\paotm\\lib\\site-packages\\bmi\\wrapper.py\u001b[0m in \u001b[0;36mget_var\u001b[1;34m(self, name)\u001b[0m\n\u001b[0;32m    592\u001b[0m         \u001b[1;31m# '' or b''\u001b[0m\u001b[1;33m\u001b[0m\u001b[1;33m\u001b[0m\u001b[1;33m\u001b[0m\u001b[0m\n\u001b[0;32m    593\u001b[0m         \u001b[1;32melif\u001b[0m \u001b[1;32mnot\u001b[0m \u001b[0mtype_\u001b[0m\u001b[1;33m:\u001b[0m\u001b[1;33m\u001b[0m\u001b[1;33m\u001b[0m\u001b[0m\n\u001b[1;32m--> 594\u001b[1;33m             \u001b[1;32mraise\u001b[0m \u001b[0mValueError\u001b[0m\u001b[1;33m(\u001b[0m\u001b[1;34m'type not found for variable {}'\u001b[0m\u001b[1;33m.\u001b[0m\u001b[0mformat\u001b[0m\u001b[1;33m(\u001b[0m\u001b[0mname\u001b[0m\u001b[1;33m)\u001b[0m\u001b[1;33m)\u001b[0m\u001b[1;33m\u001b[0m\u001b[1;33m\u001b[0m\u001b[0m\n\u001b[0m\u001b[0;32m    595\u001b[0m         \u001b[1;32melse\u001b[0m\u001b[1;33m:\u001b[0m\u001b[1;33m\u001b[0m\u001b[1;33m\u001b[0m\u001b[0m\n\u001b[0;32m    596\u001b[0m             \u001b[0marraytype\u001b[0m \u001b[1;33m=\u001b[0m \u001b[0mself\u001b[0m\u001b[1;33m.\u001b[0m\u001b[0mmake_compound_ctype\u001b[0m\u001b[1;33m(\u001b[0m\u001b[0mname\u001b[0m\u001b[1;33m)\u001b[0m\u001b[1;33m\u001b[0m\u001b[1;33m\u001b[0m\u001b[0m\n",
      "\u001b[1;31mValueError\u001b[0m: type not found for variable turkin1"
     ]
    }
   ],
   "source": [
    "# Model specific function \n",
    "xz = wrapper.get_var('xz')[:] / 100\n",
    "yz = wrapper.get_var('yz')[:]\n",
    "indy = np.argsort(yz)[::-1]\n",
    "newx = xz[indy]\n",
    "randind = np.random.choice(len(xz), int(len(xz)/5), replace=False)\n",
    "\n",
    "lX = len(np.unique(xz))\n",
    "lY = len(np.unique(yz))\n",
    "newx = newx.reshape((lY, lX))\n",
    "indx = np.argsort(newx, axis=1)\n",
    "print(lX)\n",
    "Z = int((len(wrapper.get_var('zws')) - lX) / lX)\n",
    "print(Z)\n",
    "\n",
    "Xarr = np.tile(xz, (Z, 1))\n",
    "\n",
    "#     Automate parameter and grid sizes\n",
    "def update_data():\n",
    "    ucx = wrapper.get_var('ucx')[lX:].copy()\n",
    "    ucy = wrapper.get_var('ucy')[lX:].copy()\n",
    "    zws = wrapper.get_var('zws')[lX:].copy()\n",
    "    temp = wrapper.get_var('temperature')[lX:].copy()\n",
    "    k = wrapper.get_var('turkin1')[lX:].copy()\n",
    "\n",
    "    data.append(dict({\n",
    "        \"time\": wrapper.get_current_time(),\n",
    "        \"ucx\": ucx.reshape((lX, Z)).transpose(), \n",
    "        \"ucy\": ucy.reshape((lX, Z)).transpose(), \n",
    "        \"zws\": zws.reshape((lX, Z)).transpose(), \n",
    "        \"temp\": temp.reshape((lX, Z)).transpose(),\n",
    "        \"k\": k.reshape((lX, Z)).transpose()\n",
    "\n",
    "    }))\n",
    "    slider.max = len(data)\n",
    "    settings.value = \"Model update, timestep: {}\".format(data[-1][\"time\"])\n",
    "update_data()\n"
   ]
  },
  {
   "cell_type": "code",
   "execution_count": 17,
   "metadata": {},
   "outputs": [
    {
     "data": {
      "text/plain": [
       "198.0"
      ]
     },
     "execution_count": 17,
     "metadata": {},
     "output_type": "execute_result"
    }
   ],
   "source": [
    "xz[50]"
   ]
  },
  {
   "cell_type": "code",
   "execution_count": 18,
   "metadata": {
    "scrolled": false
   },
   "outputs": [],
   "source": [
    "sliceslider.max = lX - 1\n",
    "sliceslider.value = int(lX/2)"
   ]
  },
  {
   "cell_type": "code",
   "execution_count": null,
   "metadata": {},
   "outputs": [],
   "source": [
    "# Standard functions for button widgets\n",
    "dostop = False\n",
    "def update_model(b=None):\n",
    "#     Update the model with t = 1\n",
    "    wrapper.update(wrapper.get_time_step())\n",
    "    if(data[-1][\"time\"] != wrapper.get_current_time()):\n",
    "        update_data()\n",
    "\n",
    "def start_loop(n):\n",
    "#     Start the loop for running the model continuously\n",
    "#     while run.value == True: \n",
    "    for i in range(n):\n",
    "        update_model()\n",
    "        if (wrapper.get_current_time() >= wrapper.get_end_time()):\n",
    "            stop_model()\n",
    "            break\n",
    "        if dostop == True: \n",
    "            stop_model()\n",
    "            break\n",
    "    stop_model()\n",
    "\n",
    "def run_model(change=None): \n",
    "#     When the run/stop model button is pressed either start the model loop or stop it\n",
    "    run.disabled = True\n",
    "    update.disabled = True\n",
    "    restart.disabled = True\n",
    "    settings.disabled = True\n",
    "    nsteps.disabled = True\n",
    "    sliceslider.disabled = True\n",
    "    for i in items:\n",
    "        i.disabled = True\n",
    "    start_loop(int(nsteps.value))\n",
    "#         thread = threading.Thread(target=start_loop)\n",
    "#         thread.start()\n",
    "\n",
    "def stop_model(change=None):\n",
    "    update.disabled = False\n",
    "    restart.disabled = False\n",
    "    run.disabled = False\n",
    "    sliceslider.disabled = False\n",
    "    nsteps.disabled = False\n",
    "    for i in items:\n",
    "        i.disabled = False\n",
    "    dostop = True\n",
    "\n",
    "def change_param(v):\n",
    "    try:\n",
    "        v = v.owner\n",
    "    except AttributeError: \n",
    "        v = v\n",
    "    if v.value == \"\":\n",
    "        return\n",
    "    try:\n",
    "        float(v.value)\n",
    "        old_par = wrapper.get_var(v.placeholder)\n",
    "        new_par = np.ones_like(old_par) * float(v.value)\n",
    "        wrapper.set_var(v.placeholder, new_par)\n",
    "        settings.value = \"Value ({}) has been set to: {}\".format(v.description, new_par[0])\n",
    "    except ValueError:\n",
    "        v.value = str(next((x['default'] for x in parameters if x['parameter'] == v.placeholder), None))\n",
    "        settings.value = \"Not a correct input for {}\".format(v.description)\n",
    "\n",
    "def start_model():\n",
    "#     start model\n",
    "    wrapper = bmi.wrapper.BMIWrapper(engine=engine, configfile=mdufile)\n",
    "    wrapper.initialize()\n",
    "    update_data()\n",
    "    for i in range(len(items)): \n",
    "        items[i].value = str(parameters[i]['default'])\n",
    "        \n",
    "def restart_model(b=None):\n",
    "#     stop the model and call function to restart the model\n",
    "    del data[:]\n",
    "    slider.value = 0\n",
    "    wrapper.finalize()\n",
    "    start_model()\n",
    "    settings.value = \"Restarting model\""
   ]
  },
  {
   "cell_type": "code",
   "execution_count": null,
   "metadata": {
    "scrolled": false
   },
   "outputs": [],
   "source": [
    "# set plot size\n",
    "plt.rcParams[\"figure.figsize\"] = (9, 6) # (w, h)\n",
    "\n",
    "Xslice = 50\n",
    "# link functions to widgets\n",
    "run.on_click(run_model)\n",
    "update.on_click(update_model)\n",
    "restart.on_click(restart_model)\n",
    "timestep = 0\n",
    "def set_plot(change):\n",
    "    t = change['new']\n",
    "    temp_line.set_data(data[t]['temp'][:, sliceslider.value], data[t][\"zws\"][:, sliceslider.value])\n",
    "    vel_line.set_data(data[t]['ucx'][:, sliceslider.value], data[t][\"zws\"][:, sliceslider.value])\n",
    "    k_line.set_data(data[timestep]['k'][:, sliceslider.value], data[timestep][\"zws\"][:, sliceslider.value])\n",
    "    if (t < len(data)):\n",
    "        temp.set_data(data[t][\"temp\"])\n",
    "#         vortscat.set_array(data[t][\"magR\"])\n",
    "        t1.set_text(\"time: \" + str(data[t][\"time\"]) + \"[s]\")\n",
    "#         quiver.set_UVC(data[t][\"ucx\"][randind], data[t][\"ucy\"][randind])\n",
    "        fig.canvas.draw()\n",
    "    timestep = t\n",
    "\n",
    "def set_line(change):\n",
    "    sliceline.set_data((xz[-sliceslider.value], xz[-sliceslider.value]), (0, -40))\n",
    "    temp_line.set_data(data[timestep]['temp'][:, sliceslider.value], data[timestep][\"zws\"][:, sliceslider.value])\n",
    "    vel_line.set_data(data[timestep]['ucx'][:, sliceslider.value], data[timestep][\"zws\"][:, sliceslider.value])\n",
    "    k_line.set_data(data[timestep]['k'][:, sliceslider.value], data[timestep][\"zws\"][:, sliceslider.value])\n",
    "    \n",
    "slider.observe(set_plot, 'value')\n",
    "sliceslider.observe(set_line, 'value')\n",
    "\n",
    "controls = HBox([run, update, restart])\n",
    "params = VBox(items)\n",
    "\n",
    "for i in items: \n",
    "    change_param(i)\n",
    "    i.observe(change_param, names='value')\n",
    "\n",
    "display(VBox([settings, HBox([nsteps, controls]), HBox([params]), sliceslider]))\n",
    "fig = plt.figure()\n",
    "ax0 = plt.subplot2grid((2, 4), (0, 0), colspan=4)\n",
    "ax2 = plt.subplot2grid((2, 4), (1, 0), rowspan=1)\n",
    "ax3 = plt.subplot2grid((2, 4), (1, 1), rowspan=1)\n",
    "ax4 = plt.subplot2grid((2, 4), (1, 2), rowspan=1)\n",
    "display(player)\n",
    "\n",
    "t1 = fig.suptitle(\"time: \" + str(data[0][\"time\"]) + \"[s]\")\n",
    "\n",
    "temp = ax0.imshow(data[0][\"temp\"], extent=[xz.min(), xz.max(), 0, -40 ], cmap=\"coolwarm\", vmin=0, vmax=25)\n",
    "ax0.set_xlabel(\"X $[m]$\")\n",
    "ax0.set_ylabel(\"Z $[m]$\")\n",
    "# quiver = ax0.quiver(Xarr[::5, ::5], data[0][\"zws\"][::5, ::5], data[0][\"ucx\"][::5, ::5], data[0][\"ucy\"][::5, ::5], angles='xy', scale_units='xy', scale=0.0001)\n",
    "divider = make_axes_locatable(ax0)\n",
    "cax0 = divider.append_axes('bottom', size='10%', pad=0.4)\n",
    "cbar = plt.colorbar(temp, orientation='horizontal', cax=cax0);\n",
    "sliceline, = ax0.plot((xz[-sliceslider.value], xz[-sliceslider.value]), (0, -40), \"--\")\n",
    "ax0.invert_yaxis()\n",
    "ax0.set_title('Temperature $[\\deg]$')\n",
    "\n",
    "temp_line, = ax2.plot(data[0]['temp'][:, sliceslider.value], data[0]['zws'][:, sliceslider.value])\n",
    "ax2.set_title('Temperature $[\\deg]$')\n",
    "ax2.set_ylabel('Depth $[m]$')\n",
    "\n",
    "vel_line, = ax3.plot(data[0]['ucx'][:, sliceslider.value], data[0]['zws'][:, sliceslider.value])\n",
    "ax3.set_title('Velocity in X dir$[m/s]$')\n",
    "ax3.set_xlim(-0.25, 0.25)\n",
    "\n",
    "k_line, = ax3.plot(data[0]['k'][:, sliceslider.value], data[0]['zws'][:, sliceslider.value])\n",
    "\n",
    "ax3.yaxis.set_visible(False)\n",
    "ax4.yaxis.set_visible(False)\n",
    "\n",
    "plt.draw()"
   ]
  },
  {
   "cell_type": "code",
   "execution_count": null,
   "metadata": {},
   "outputs": [],
   "source": [
    "xz.min()"
   ]
  },
  {
   "cell_type": "code",
   "execution_count": null,
   "metadata": {},
   "outputs": [],
   "source": [
    "plt.figure()\n",
    "print( data[0][\"zws\"].min(), data[0][\"zws\"].max())\n",
    "temp = plt.imshow(data[-1][\"temp\"], cmap=\"seismic\", extent=[2, 400, -40, 0])\n",
    "plt.colorbar()\n",
    "plt.autoscale()"
   ]
  },
  {
   "cell_type": "code",
   "execution_count": null,
   "metadata": {},
   "outputs": [],
   "source": [
    "# plt.figure()\n",
    "# plt.quiver(Xarr[::5, ::5], data[0][\"zws\"][::5, ::5], data[0][\"ucx\"][::5, ::5], data[0][\"ucy\"][::5, ::5], angles='xy', scale_units='xy', scale=0.0001)\n"
   ]
  },
  {
   "cell_type": "code",
   "execution_count": null,
   "metadata": {},
   "outputs": [],
   "source": [
    "t = data[-1][\"ucx\"]\n",
    "np.shape(t)"
   ]
  },
  {
   "cell_type": "code",
   "execution_count": null,
   "metadata": {
    "scrolled": false
   },
   "outputs": [],
   "source": [
    "plt.figure()\n",
    "plt.plot(data[-1]['ucx'][:, sliceslider.value], data[-1][\"zws\"][:, sliceslider.value])"
   ]
  },
  {
   "cell_type": "code",
   "execution_count": null,
   "metadata": {},
   "outputs": [],
   "source": []
  }
 ],
 "metadata": {
  "kernelspec": {
   "display_name": "Python 3",
   "language": "python",
   "name": "python3"
  },
  "language_info": {
   "codemirror_mode": {
    "name": "ipython",
    "version": 3
   },
   "file_extension": ".py",
   "mimetype": "text/x-python",
   "name": "python",
   "nbconvert_exporter": "python",
   "pygments_lexer": "ipython3",
   "version": "3.6.8"
  }
 },
 "nbformat": 4,
 "nbformat_minor": 2
}
