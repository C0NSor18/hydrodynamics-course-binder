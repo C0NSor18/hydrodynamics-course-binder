{
 "cells": [
  {
   "cell_type": "code",
   "execution_count": 1,
   "metadata": {},
   "outputs": [],
   "source": [
    "import bmi\n",
    "\n",
    "import bmi.wrapper\n",
    "from subprocess import call\n",
    "import os\n",
    "import numpy as np\n",
    "import ctypes\n",
    "import matplotlib.pyplot as plt\n",
    "\n",
    "%matplotlib inline"
   ]
  },
  {
   "cell_type": "code",
   "execution_count": 2,
   "metadata": {},
   "outputs": [],
   "source": [
    "import sys\n",
    "fmdir = r'd:\\ottevan\\Documents\\source\\dflowfm-oss_trunk\\src\\bin\\x64\\Debug\\dflowfm\\bin'\n"
   ]
  },
  {
   "cell_type": "code",
   "execution_count": 3,
   "metadata": {},
   "outputs": [],
   "source": [
    "engine = 'dflowfm.dll'\n",
    "enginepath = os.path.join(fmdir, engine)\n",
    "model = bmi.wrapper.BMIWrapper(enginepath)"
   ]
  },
  {
   "cell_type": "code",
   "execution_count": 4,
   "metadata": {},
   "outputs": [],
   "source": [
    "mdupath = r'models\\Channel_new\\t1.mdu'"
   ]
  },
  {
   "cell_type": "code",
   "execution_count": 5,
   "metadata": {},
   "outputs": [],
   "source": [
    "model.initialize(mdupath)"
   ]
  },
  {
   "cell_type": "code",
   "execution_count": 6,
   "metadata": {},
   "outputs": [
    {
     "name": "stdout",
     "output_type": "stream",
     "text": [
      "60.0\n"
     ]
    },
    {
     "data": {
      "text/plain": [
       "0"
      ]
     },
     "execution_count": 6,
     "metadata": {},
     "output_type": "execute_result"
    }
   ],
   "source": [
    "dt = model.get_time_step()\n",
    "print(dt)\n",
    "model.update(dt)"
   ]
  },
  {
   "cell_type": "code",
   "execution_count": 7,
   "metadata": {},
   "outputs": [
    {
     "name": "stdout",
     "output_type": "stream",
     "text": [
      "[5. 5. 5. 5. 5. 5. 5. 5. 5. 5. 5. 5. 5. 5. 5. 5. 5. 5. 5. 5. 5. 5. 5. 5.\n",
      " 5. 5. 5. 5. 5. 5. 5. 5. 5. 5. 5. 5. 5. 5. 5. 5. 5. 5. 5. 5. 5. 5. 5. 5.\n",
      " 5. 5. 5. 5. 5. 5. 5. 5. 5. 5. 5. 5. 5. 5. 5. 5. 5. 5. 5. 5. 5. 5. 5. 5.\n",
      " 5. 5. 5. 5. 5. 5. 5. 5. 5. 5. 5. 5. 5. 5. 5. 5. 5. 5. 5. 5. 5. 5. 5. 5.\n",
      " 5. 5. 5.]\n"
     ]
    }
   ],
   "source": [
    "# Get and set wind\n",
    "wind = model.get_var('wx')\n",
    "wind_value = 5\n",
    "wind_new = np.ones(np.shape(wind))*wind_value \n",
    "model.set_var('wx',wind_new)\n",
    "print(wind)\n"
   ]
  },
  {
   "cell_type": "code",
   "execution_count": 8,
   "metadata": {},
   "outputs": [
    {
     "name": "stdout",
     "output_type": "stream",
     "text": [
      "60.0\n"
     ]
    }
   ],
   "source": [
    "dt = model.get_time_step()\n",
    "print(dt)"
   ]
  },
  {
   "cell_type": "code",
   "execution_count": null,
   "metadata": {},
   "outputs": [],
   "source": []
  },
  {
   "cell_type": "code",
   "execution_count": 9,
   "metadata": {},
   "outputs": [
    {
     "name": "stdout",
     "output_type": "stream",
     "text": [
      "0 [5. 5. 5. 5. 5. 5. 5. 5. 5. 5. 5. 5. 5. 5. 5. 5. 5. 5. 5. 5. 5. 5. 5. 5.\n",
      " 5. 5. 5. 5. 5. 5. 5. 5. 5. 5. 5. 5. 5. 5. 5. 5. 5. 5. 5. 5. 5. 5. 5. 5.\n",
      " 5. 5. 5. 5. 5. 5. 5. 5. 5. 5. 5. 5. 5. 5. 5. 5. 5. 5. 5. 5. 5. 5. 5. 5.\n",
      " 5. 5. 5. 5. 5. 5. 5. 5. 5. 5. 5. 5. 5. 5. 5. 5. 5. 5. 5. 5. 5. 5. 5. 5.\n",
      " 5. 5. 5.]\n",
      "1 [5. 5. 5. 5. 5. 5. 5. 5. 5. 5. 5. 5. 5. 5. 5. 5. 5. 5. 5. 5. 5. 5. 5. 5.\n",
      " 5. 5. 5. 5. 5. 5. 5. 5. 5. 5. 5. 5. 5. 5. 5. 5. 5. 5. 5. 5. 5. 5. 5. 5.\n",
      " 5. 5. 5. 5. 5. 5. 5. 5. 5. 5. 5. 5. 5. 5. 5. 5. 5. 5. 5. 5. 5. 5. 5. 5.\n",
      " 5. 5. 5. 5. 5. 5. 5. 5. 5. 5. 5. 5. 5. 5. 5. 5. 5. 5. 5. 5. 5. 5. 5. 5.\n",
      " 5. 5. 5.]\n",
      "2 [5. 5. 5. 5. 5. 5. 5. 5. 5. 5. 5. 5. 5. 5. 5. 5. 5. 5. 5. 5. 5. 5. 5. 5.\n",
      " 5. 5. 5. 5. 5. 5. 5. 5. 5. 5. 5. 5. 5. 5. 5. 5. 5. 5. 5. 5. 5. 5. 5. 5.\n",
      " 5. 5. 5. 5. 5. 5. 5. 5. 5. 5. 5. 5. 5. 5. 5. 5. 5. 5. 5. 5. 5. 5. 5. 5.\n",
      " 5. 5. 5. 5. 5. 5. 5. 5. 5. 5. 5. 5. 5. 5. 5. 5. 5. 5. 5. 5. 5. 5. 5. 5.\n",
      " 5. 5. 5.]\n",
      "3 [5. 5. 5. 5. 5. 5. 5. 5. 5. 5. 5. 5. 5. 5. 5. 5. 5. 5. 5. 5. 5. 5. 5. 5.\n",
      " 5. 5. 5. 5. 5. 5. 5. 5. 5. 5. 5. 5. 5. 5. 5. 5. 5. 5. 5. 5. 5. 5. 5. 5.\n",
      " 5. 5. 5. 5. 5. 5. 5. 5. 5. 5. 5. 5. 5. 5. 5. 5. 5. 5. 5. 5. 5. 5. 5. 5.\n",
      " 5. 5. 5. 5. 5. 5. 5. 5. 5. 5. 5. 5. 5. 5. 5. 5. 5. 5. 5. 5. 5. 5. 5. 5.\n",
      " 5. 5. 5.]\n",
      "4 [5. 5. 5. 5. 5. 5. 5. 5. 5. 5. 5. 5. 5. 5. 5. 5. 5. 5. 5. 5. 5. 5. 5. 5.\n",
      " 5. 5. 5. 5. 5. 5. 5. 5. 5. 5. 5. 5. 5. 5. 5. 5. 5. 5. 5. 5. 5. 5. 5. 5.\n",
      " 5. 5. 5. 5. 5. 5. 5. 5. 5. 5. 5. 5. 5. 5. 5. 5. 5. 5. 5. 5. 5. 5. 5. 5.\n",
      " 5. 5. 5. 5. 5. 5. 5. 5. 5. 5. 5. 5. 5. 5. 5. 5. 5. 5. 5. 5. 5. 5. 5. 5.\n",
      " 5. 5. 5.]\n",
      "5 [5. 5. 5. 5. 5. 5. 5. 5. 5. 5. 5. 5. 5. 5. 5. 5. 5. 5. 5. 5. 5. 5. 5. 5.\n",
      " 5. 5. 5. 5. 5. 5. 5. 5. 5. 5. 5. 5. 5. 5. 5. 5. 5. 5. 5. 5. 5. 5. 5. 5.\n",
      " 5. 5. 5. 5. 5. 5. 5. 5. 5. 5. 5. 5. 5. 5. 5. 5. 5. 5. 5. 5. 5. 5. 5. 5.\n",
      " 5. 5. 5. 5. 5. 5. 5. 5. 5. 5. 5. 5. 5. 5. 5. 5. 5. 5. 5. 5. 5. 5. 5. 5.\n",
      " 5. 5. 5.]\n",
      "6 [5. 5. 5. 5. 5. 5. 5. 5. 5. 5. 5. 5. 5. 5. 5. 5. 5. 5. 5. 5. 5. 5. 5. 5.\n",
      " 5. 5. 5. 5. 5. 5. 5. 5. 5. 5. 5. 5. 5. 5. 5. 5. 5. 5. 5. 5. 5. 5. 5. 5.\n",
      " 5. 5. 5. 5. 5. 5. 5. 5. 5. 5. 5. 5. 5. 5. 5. 5. 5. 5. 5. 5. 5. 5. 5. 5.\n",
      " 5. 5. 5. 5. 5. 5. 5. 5. 5. 5. 5. 5. 5. 5. 5. 5. 5. 5. 5. 5. 5. 5. 5. 5.\n",
      " 5. 5. 5.]\n",
      "7 [5. 5. 5. 5. 5. 5. 5. 5. 5. 5. 5. 5. 5. 5. 5. 5. 5. 5. 5. 5. 5. 5. 5. 5.\n",
      " 5. 5. 5. 5. 5. 5. 5. 5. 5. 5. 5. 5. 5. 5. 5. 5. 5. 5. 5. 5. 5. 5. 5. 5.\n",
      " 5. 5. 5. 5. 5. 5. 5. 5. 5. 5. 5. 5. 5. 5. 5. 5. 5. 5. 5. 5. 5. 5. 5. 5.\n",
      " 5. 5. 5. 5. 5. 5. 5. 5. 5. 5. 5. 5. 5. 5. 5. 5. 5. 5. 5. 5. 5. 5. 5. 5.\n",
      " 5. 5. 5.]\n",
      "8 [5. 5. 5. 5. 5. 5. 5. 5. 5. 5. 5. 5. 5. 5. 5. 5. 5. 5. 5. 5. 5. 5. 5. 5.\n",
      " 5. 5. 5. 5. 5. 5. 5. 5. 5. 5. 5. 5. 5. 5. 5. 5. 5. 5. 5. 5. 5. 5. 5. 5.\n",
      " 5. 5. 5. 5. 5. 5. 5. 5. 5. 5. 5. 5. 5. 5. 5. 5. 5. 5. 5. 5. 5. 5. 5. 5.\n",
      " 5. 5. 5. 5. 5. 5. 5. 5. 5. 5. 5. 5. 5. 5. 5. 5. 5. 5. 5. 5. 5. 5. 5. 5.\n",
      " 5. 5. 5.]\n",
      "9 [5. 5. 5. 5. 5. 5. 5. 5. 5. 5. 5. 5. 5. 5. 5. 5. 5. 5. 5. 5. 5. 5. 5. 5.\n",
      " 5. 5. 5. 5. 5. 5. 5. 5. 5. 5. 5. 5. 5. 5. 5. 5. 5. 5. 5. 5. 5. 5. 5. 5.\n",
      " 5. 5. 5. 5. 5. 5. 5. 5. 5. 5. 5. 5. 5. 5. 5. 5. 5. 5. 5. 5. 5. 5. 5. 5.\n",
      " 5. 5. 5. 5. 5. 5. 5. 5. 5. 5. 5. 5. 5. 5. 5. 5. 5. 5. 5. 5. 5. 5. 5. 5.\n",
      " 5. 5. 5.]\n",
      "10 [5. 5. 5. 5. 5. 5. 5. 5. 5. 5. 5. 5. 5. 5. 5. 5. 5. 5. 5. 5. 5. 5. 5. 5.\n",
      " 5. 5. 5. 5. 5. 5. 5. 5. 5. 5. 5. 5. 5. 5. 5. 5. 5. 5. 5. 5. 5. 5. 5. 5.\n",
      " 5. 5. 5. 5. 5. 5. 5. 5. 5. 5. 5. 5. 5. 5. 5. 5. 5. 5. 5. 5. 5. 5. 5. 5.\n",
      " 5. 5. 5. 5. 5. 5. 5. 5. 5. 5. 5. 5. 5. 5. 5. 5. 5. 5. 5. 5. 5. 5. 5. 5.\n",
      " 5. 5. 5.]\n",
      "11 [5. 5. 5. 5. 5. 5. 5. 5. 5. 5. 5. 5. 5. 5. 5. 5. 5. 5. 5. 5. 5. 5. 5. 5.\n",
      " 5. 5. 5. 5. 5. 5. 5. 5. 5. 5. 5. 5. 5. 5. 5. 5. 5. 5. 5. 5. 5. 5. 5. 5.\n",
      " 5. 5. 5. 5. 5. 5. 5. 5. 5. 5. 5. 5. 5. 5. 5. 5. 5. 5. 5. 5. 5. 5. 5. 5.\n",
      " 5. 5. 5. 5. 5. 5. 5. 5. 5. 5. 5. 5. 5. 5. 5. 5. 5. 5. 5. 5. 5. 5. 5. 5.\n",
      " 5. 5. 5.]\n",
      "12 [5. 5. 5. 5. 5. 5. 5. 5. 5. 5. 5. 5. 5. 5. 5. 5. 5. 5. 5. 5. 5. 5. 5. 5.\n",
      " 5. 5. 5. 5. 5. 5. 5. 5. 5. 5. 5. 5. 5. 5. 5. 5. 5. 5. 5. 5. 5. 5. 5. 5.\n",
      " 5. 5. 5. 5. 5. 5. 5. 5. 5. 5. 5. 5. 5. 5. 5. 5. 5. 5. 5. 5. 5. 5. 5. 5.\n",
      " 5. 5. 5. 5. 5. 5. 5. 5. 5. 5. 5. 5. 5. 5. 5. 5. 5. 5. 5. 5. 5. 5. 5. 5.\n",
      " 5. 5. 5.]\n",
      "13 [5. 5. 5. 5. 5. 5. 5. 5. 5. 5. 5. 5. 5. 5. 5. 5. 5. 5. 5. 5. 5. 5. 5. 5.\n",
      " 5. 5. 5. 5. 5. 5. 5. 5. 5. 5. 5. 5. 5. 5. 5. 5. 5. 5. 5. 5. 5. 5. 5. 5.\n",
      " 5. 5. 5. 5. 5. 5. 5. 5. 5. 5. 5. 5. 5. 5. 5. 5. 5. 5. 5. 5. 5. 5. 5. 5.\n",
      " 5. 5. 5. 5. 5. 5. 5. 5. 5. 5. 5. 5. 5. 5. 5. 5. 5. 5. 5. 5. 5. 5. 5. 5.\n",
      " 5. 5. 5.]\n",
      "14 [5. 5. 5. 5. 5. 5. 5. 5. 5. 5. 5. 5. 5. 5. 5. 5. 5. 5. 5. 5. 5. 5. 5. 5.\n",
      " 5. 5. 5. 5. 5. 5. 5. 5. 5. 5. 5. 5. 5. 5. 5. 5. 5. 5. 5. 5. 5. 5. 5. 5.\n",
      " 5. 5. 5. 5. 5. 5. 5. 5. 5. 5. 5. 5. 5. 5. 5. 5. 5. 5. 5. 5. 5. 5. 5. 5.\n",
      " 5. 5. 5. 5. 5. 5. 5. 5. 5. 5. 5. 5. 5. 5. 5. 5. 5. 5. 5. 5. 5. 5. 5. 5.\n",
      " 5. 5. 5.]\n",
      "15 [5. 5. 5. 5. 5. 5. 5. 5. 5. 5. 5. 5. 5. 5. 5. 5. 5. 5. 5. 5. 5. 5. 5. 5.\n",
      " 5. 5. 5. 5. 5. 5. 5. 5. 5. 5. 5. 5. 5. 5. 5. 5. 5. 5. 5. 5. 5. 5. 5. 5.\n",
      " 5. 5. 5. 5. 5. 5. 5. 5. 5. 5. 5. 5. 5. 5. 5. 5. 5. 5. 5. 5. 5. 5. 5. 5.\n",
      " 5. 5. 5. 5. 5. 5. 5. 5. 5. 5. 5. 5. 5. 5. 5. 5. 5. 5. 5. 5. 5. 5. 5. 5.\n",
      " 5. 5. 5.]\n",
      "16 [5. 5. 5. 5. 5. 5. 5. 5. 5. 5. 5. 5. 5. 5. 5. 5. 5. 5. 5. 5. 5. 5. 5. 5.\n",
      " 5. 5. 5. 5. 5. 5. 5. 5. 5. 5. 5. 5. 5. 5. 5. 5. 5. 5. 5. 5. 5. 5. 5. 5.\n",
      " 5. 5. 5. 5. 5. 5. 5. 5. 5. 5. 5. 5. 5. 5. 5. 5. 5. 5. 5. 5. 5. 5. 5. 5.\n",
      " 5. 5. 5. 5. 5. 5. 5. 5. 5. 5. 5. 5. 5. 5. 5. 5. 5. 5. 5. 5. 5. 5. 5. 5.\n",
      " 5. 5. 5.]\n",
      "17 [5. 5. 5. 5. 5. 5. 5. 5. 5. 5. 5. 5. 5. 5. 5. 5. 5. 5. 5. 5. 5. 5. 5. 5.\n",
      " 5. 5. 5. 5. 5. 5. 5. 5. 5. 5. 5. 5. 5. 5. 5. 5. 5. 5. 5. 5. 5. 5. 5. 5.\n",
      " 5. 5. 5. 5. 5. 5. 5. 5. 5. 5. 5. 5. 5. 5. 5. 5. 5. 5. 5. 5. 5. 5. 5. 5.\n",
      " 5. 5. 5. 5. 5. 5. 5. 5. 5. 5. 5. 5. 5. 5. 5. 5. 5. 5. 5. 5. 5. 5. 5. 5.\n",
      " 5. 5. 5.]\n",
      "18 [5. 5. 5. 5. 5. 5. 5. 5. 5. 5. 5. 5. 5. 5. 5. 5. 5. 5. 5. 5. 5. 5. 5. 5.\n",
      " 5. 5. 5. 5. 5. 5. 5. 5. 5. 5. 5. 5. 5. 5. 5. 5. 5. 5. 5. 5. 5. 5. 5. 5.\n",
      " 5. 5. 5. 5. 5. 5. 5. 5. 5. 5. 5. 5. 5. 5. 5. 5. 5. 5. 5. 5. 5. 5. 5. 5.\n",
      " 5. 5. 5. 5. 5. 5. 5. 5. 5. 5. 5. 5. 5. 5. 5. 5. 5. 5. 5. 5. 5. 5. 5. 5.\n",
      " 5. 5. 5.]\n",
      "19 [5. 5. 5. 5. 5. 5. 5. 5. 5. 5. 5. 5. 5. 5. 5. 5. 5. 5. 5. 5. 5. 5. 5. 5.\n",
      " 5. 5. 5. 5. 5. 5. 5. 5. 5. 5. 5. 5. 5. 5. 5. 5. 5. 5. 5. 5. 5. 5. 5. 5.\n",
      " 5. 5. 5. 5. 5. 5. 5. 5. 5. 5. 5. 5. 5. 5. 5. 5. 5. 5. 5. 5. 5. 5. 5. 5.\n",
      " 5. 5. 5. 5. 5. 5. 5. 5. 5. 5. 5. 5. 5. 5. 5. 5. 5. 5. 5. 5. 5. 5. 5. 5.\n",
      " 5. 5. 5.]\n"
     ]
    }
   ],
   "source": [
    "# Run model 10 timesteps\n",
    "model.set_var('wx',wind_new)\n",
    "for i in range(20):\n",
    "    model.update(dt)\n",
    "    wind = model.get_var('wx')\n",
    "    print(i, wind)\n",
    "    #print(model.get_current_time())"
   ]
  },
  {
   "cell_type": "code",
   "execution_count": 10,
   "metadata": {
    "scrolled": true
   },
   "outputs": [
    {
     "name": "stdout",
     "output_type": "stream",
     "text": [
      "0 b'DFM_COMM_DFMWORLD' ()\n",
      "1 b'iglobal_s' (100,)\n",
      "2 b'hwav' (100,)\n",
      "3 b'twav' (100,)\n",
      "4 b'Uorb' (100,)\n",
      "5 b'infilt' (100,)\n",
      "6 b'infiltcap' (100,)\n",
      "7 b'shx' (0,)\n",
      "8 b'shy' (0,)\n",
      "9 b'shi' (0,)\n",
      "10 b'zsp' (100,)\n",
      "11 b'zsp0' (100,)\n",
      "12 b'zspc' (202,)\n",
      "13 b'zspc0' (202,)\n",
      "14 b'v0ship' (100,)\n",
      "15 b'v1ship' (100,)\n",
      "16 b'qinship' (100,)\n",
      "17 b'vicushp' (99,)\n",
      "18 b'shL' (2,)\n",
      "19 b'shB' (2,)\n",
      "20 b'shd' (2,)\n",
      "21 b'stuw' (2,)\n",
      "22 b'fstuw' (2,)\n",
      "23 b'stuwmx' (2,)\n",
      "24 b'roer' (2,)\n",
      "25 b'froer' (2,)\n",
      "26 b'roermx' (2,)\n",
      "27 b'wx' (99,)\n",
      "28 b'wy' (99,)\n",
      "29 b'wmag' (99,)\n",
      "30 b'rain' (100,)\n",
      "31 b'evap' (100,)\n",
      "32 b'numlatsg' ()\n",
      "33 b'qplat' (0,)\n",
      "34 b'qqlat' (100,)\n",
      "35 b'balat' (0,)\n",
      "36 b'nnlat' (100,)\n",
      "37 b'qinext' (4200,)\n",
      "38 b'qinextreal' (4200,)\n",
      "39 b'vincum' (4200,)\n",
      "40 b'zbndz' (0,)\n",
      "41 b'zbndu' (0,)\n",
      "42 b'zbndq' (0,)\n",
      "43 b'turkin1' (4158,)\n",
      "44 b'rnveg' (4200,)\n",
      "45 b'diaveg' (4200,)\n",
      "46 b'cfuveg' (99,)\n",
      "47 b'alfaveg' (99,)\n",
      "48 b'stemdens' (100,)\n",
      "49 b'stemdiam' (100,)\n",
      "50 b'stemheight' (100,)\n",
      "51 b'zws' (4200,)\n",
      "52 b'kbot' (100,)\n",
      "53 b'ktop' (100,)\n",
      "54 b'Lbot' (99,)\n",
      "55 b'Ltop' (99,)\n",
      "56 b's0' (100,)\n",
      "57 b's1' (100,)\n",
      "58 b'a0' (100,)\n",
      "59 b'a1' (100,)\n",
      "60 b'vol0' (100,)\n",
      "61 b'vol1' (100,)\n",
      "62 b'vol1_f' (100,)\n",
      "63 b'hs' (100,)\n",
      "64 b'ucx' (4200,)\n",
      "65 b'ucy' (4200,)\n",
      "66 b'ucz' (4200,)\n",
      "67 b'ucmag' (4200,)\n",
      "68 b'sa0' (4200,)\n",
      "69 b'sa1' (4200,)\n",
      "70 b'satop' (100,)\n",
      "71 b'sabot' (100,)\n",
      "72 b'tem0' (4200,)\n",
      "73 b'tem1' (4200,)\n",
      "74 b'u1' (4158,)\n",
      "75 b'u_to_umain' (4158,)\n",
      "76 b'q1' (4158,)\n",
      "77 b'q1_main' (4158,)\n",
      "78 b'au' (4158,)\n",
      "79 b'hu' (99,)\n",
      "80 b'frcu' (99,)\n",
      "81 b'viusp' (99,)\n",
      "82 b'diusp' (99,)\n",
      "83 b'ndxi' ()\n",
      "84 b'ndx1db' ()\n",
      "85 b'kfs' (100,)\n",
      "86 b'kfst0' (100,)\n",
      "87 b'bare' (100,)\n",
      "88 b'ba_mor' (100,)\n",
      "89 b'bl' (100,)\n",
      "90 b'lnx1D' ()\n",
      "91 b'lnxi' ()\n",
      "92 b'lnx1Db' ()\n",
      "93 b'lnx' ()\n",
      "94 b'ln' (4158, 2)\n",
      "95 b'lncn' (4158, 2)\n",
      "96 b'iadv' (99,)\n",
      "97 b'dx' (99,)\n",
      "98 b'wu' (99,)\n",
      "99 b'wu_mor' (99,)\n",
      "100 b'bob' (99, 2)\n",
      "101 b'bob0' (99, 2)\n",
      "102 b'xu' (99,)\n",
      "103 b'yu' (99,)\n",
      "104 b'vort' (100,)\n",
      "105 b'xzw' (100,)\n",
      "106 b'yzw' (100,)\n",
      "107 b'xk' (202,)\n",
      "108 b'yk' (202,)\n",
      "109 b'zk' (202,)\n",
      "110 b'kn' (301, 3)\n",
      "111 b'numk' ()\n",
      "112 b'zbnd1d2d1' (0,)\n",
      "113 b'zbnd1d2d0' (0,)\n",
      "114 b'zcrest1d2d' (0,)\n",
      "115 b'edgenumbers1d2d' (0,)\n",
      "116 b'kbnd1d2d' (0, 5)\n",
      "117 b'width_1d' (0,)\n",
      "118 b'qzeta_1d2d' (0,)\n",
      "119 b'qlat_1d2d' (0,)\n",
      "120 b'qtotal_1d2d' (0,)\n",
      "121 b'is_sumvalsnd' (100, 0)\n",
      "122 b'is_maxvalsnd' (100, 0)\n",
      "123 b'is_dtint' ()\n",
      "124 b'ndx2d' ()\n",
      "125 b'ndx' ()\n",
      "126 b'xz' (100,)\n",
      "127 b'yz' (100,)\n",
      "128 b'ba' (100,)\n",
      "129 b'pumps' (0, 1)\n",
      "130 b'weirs' (0, 2)\n",
      "131 b'gates' (0, 5)\n",
      "132 b'sourcesinks' (0, 3)\n",
      "133 b'observations' (0, 20)\n",
      "134 b'crosssections' (0, 5)\n",
      "135 b'laterals' (0, 1)\n",
      "136 b'temperature' (4200,)\n",
      "137 b'uabs' ()\n",
      "138 b'sed1' ()\n",
      "139 b'netelemnode' (100, 4)\n",
      "140 b'flowelemnode' (100, 4)\n",
      "141 b'flowelemnbs' (100, 2)\n",
      "142 b'flowelemlns' (100, 2)\n",
      "143 b'flowelemcontour_x' (100, 4)\n",
      "144 b'flowelemcontour_y' (100, 4)\n",
      "145 b'kn' (301, 3)\n"
     ]
    }
   ],
   "source": [
    "# Possible outputvars\n",
    "for i in range(0,model.get_var_count()):\n",
    "    print(i, model.get_var_name(i), model.get_var_shape(model.get_var_name(i)))"
   ]
  },
  {
   "cell_type": "code",
   "execution_count": 11,
   "metadata": {},
   "outputs": [
    {
     "name": "stdout",
     "output_type": "stream",
     "text": [
      "[[39600.            40.00144253]\n",
      " [39200.            40.00141715]\n",
      " [38800.            40.00139272]\n",
      " [38400.            40.00136825]\n",
      " [38000.            40.00134372]\n",
      " [37600.            40.00131933]\n",
      " [37200.            40.00129489]\n",
      " [36800.            40.00127032]\n",
      " [36400.            40.00124584]\n",
      " [36000.            40.0012215 ]\n",
      " [35600.            40.00119708]\n",
      " [35200.            40.00117248]\n",
      " [34800.            40.00114789]\n",
      " [34400.            40.0011235 ]\n",
      " [34000.            40.00109921]\n",
      " [33600.            40.00107482]\n",
      " [33200.            40.0010502 ]\n",
      " [32800.            40.00102548]\n",
      " [32400.            40.00100087]\n",
      " [32000.            40.0009765 ]\n",
      " [31600.            40.00095227]\n",
      " [31200.            40.00092796]\n",
      " [30800.            40.00090338]\n",
      " [30400.            40.00087849]\n",
      " [30000.            40.00085343]\n",
      " [29600.            40.00082843]\n",
      " [29200.            40.00080365]\n",
      " [28800.            40.00077909]\n",
      " [28400.            40.00075459]\n",
      " [28000.            40.00072986]\n",
      " [27600.            40.00070461]\n",
      " [27200.            40.00067865]\n",
      " [26800.            40.00065193]\n",
      " [26400.            40.00062456]\n",
      " [26000.            40.0005967 ]\n",
      " [25600.            40.00056852]\n",
      " [25200.            40.00054009]\n",
      " [24800.            40.00051133]\n",
      " [24400.            40.000482  ]\n",
      " [24000.            40.00045171]\n",
      " [23600.            40.00041998]\n",
      " [23200.            40.00038631]\n",
      " [22800.            40.00035027]\n",
      " [22400.            40.00031153]\n",
      " [22000.            40.00026993]\n",
      " [21600.            40.0002255 ]\n",
      " [21200.            40.00017845]\n",
      " [20800.            40.00012918]\n",
      " [20400.            40.0000782 ]\n",
      " [20000.            40.00002616]\n",
      " [19600.            39.99997376]\n",
      " [19200.            39.99992172]\n",
      " [18800.            39.99987075]\n",
      " [18400.            39.99982148]\n",
      " [18000.            39.99977444]\n",
      " [17600.            39.99973001]\n",
      " [17200.            39.99968842]\n",
      " [16800.            39.99964968]\n",
      " [16400.            39.99961364]\n",
      " [16000.            39.99957997]\n",
      " [15600.            39.99954824]\n",
      " [15200.            39.99951796]\n",
      " [14800.            39.99948863]\n",
      " [14400.            39.99945988]\n",
      " [14000.            39.99943145]\n",
      " [13600.            39.99940327]\n",
      " [13200.            39.99937541]\n",
      " [12800.            39.99934803]\n",
      " [12400.            39.99932131]\n",
      " [12000.            39.99929535]\n",
      " [11600.            39.9992701 ]\n",
      " [11200.            39.99924537]\n",
      " [10800.            39.99922087]\n",
      " [10400.            39.99919631]\n",
      " [10000.            39.99917153]\n",
      " [ 9600.            39.99914653]\n",
      " [ 9200.            39.99912147]\n",
      " [ 8800.            39.99909658]\n",
      " [ 8400.            39.99907199]\n",
      " [ 8000.            39.99904768]\n",
      " [ 7600.            39.99902345]\n",
      " [ 7200.            39.99899908]\n",
      " [ 6800.            39.99897447]\n",
      " [ 6400.            39.99894975]\n",
      " [ 6000.            39.99892513]\n",
      " [ 5600.            39.99890073]\n",
      " [ 5200.            39.99887645]\n",
      " [ 4800.            39.99885205]\n",
      " [ 4400.            39.99882746]\n",
      " [ 4000.            39.99880286]\n",
      " [ 3600.            39.99877843]\n",
      " [ 3200.            39.99875409]\n",
      " [ 2800.            39.99872961]\n",
      " [ 2400.            39.99870503]\n",
      " [ 2000.            39.99868059]\n",
      " [ 1600.            39.9986562 ]\n",
      " [ 1200.            39.99863167]\n",
      " [  800.            39.99860721]\n",
      " [  400.            39.99858323]\n",
      " [    0.            39.99855963]]\n"
     ]
    },
    {
     "data": {
      "image/png": "[encoded data removed]",
      "text/plain": [
       "<Figure size 432x288 with 1 Axes>"
      ]
     },
     "metadata": {
      "needs_background": "light"
     },
     "output_type": "display_data"
    }
   ],
   "source": [
    "waterlevel = model.get_var('s1')\n",
    "bedlevel = model.get_var('bl')\n",
    "xz = model.get_var('xz')\n",
    "\n",
    "plt.plot(xz,waterlevel - bedlevel,'.')\n",
    "plt.grid()\n",
    "\n",
    "print(np.transpose(np.vstack((xz-np.min(xz),waterlevel-bedlevel))))\n"
   ]
  },
  {
   "cell_type": "code",
   "execution_count": 14,
   "metadata": {},
   "outputs": [
    {
     "name": "stdout",
     "output_type": "stream",
     "text": [
      "0 25260.0\n",
      "20 26460.0\n",
      "40 27660.0\n",
      "60 28860.0\n",
      "80 30060.0\n",
      "100 31260.0\n",
      "120 32460.0\n",
      "140 33660.0\n",
      "160 34860.0\n",
      "180 36060.0\n"
     ]
    },
    {
     "data": {
      "image/png": "[encoded data removed]",
      "text/plain": [
       "<Figure size 432x288 with 1 Axes>"
      ]
     },
     "metadata": {
      "needs_background": "light"
     },
     "output_type": "display_data"
    }
   ],
   "source": [
    "# Run model 10 timesteps\n",
    "plt.figure()\n",
    "for i in range(200):\n",
    "    #model.update(dt)\n",
    "    time2 = model.get_current_time()\n",
    "    model.update(dt)        \n",
    "    if i % 20 == 0:\n",
    "        print(i, time2)\n",
    "        waterlevel = model.get_var('s1')\n",
    "        bedlevel = model.get_var('bl')\n",
    "        xz = model.get_var('xz')\n",
    "        plt.plot(xz,waterlevel - bedlevel,'.')\n",
    "plt.show()\n",
    "\n",
    "   "
   ]
  },
  {
   "cell_type": "code",
   "execution_count": null,
   "metadata": {},
   "outputs": [],
   "source": [
    "model.finalize()"
   ]
  },
  {
   "cell_type": "code",
   "execution_count": null,
   "metadata": {},
   "outputs": [],
   "source": [
    "turkin = model.get_var('turkin1')"
   ]
  },
  {
   "cell_type": "code",
   "execution_count": null,
   "metadata": {},
   "outputs": [],
   "source": [
    "print(len(turkin))"
   ]
  },
  {
   "cell_type": "code",
   "execution_count": null,
   "metadata": {},
   "outputs": [],
   "source": []
  }
 ],
 "metadata": {
  "kernelspec": {
   "display_name": "Python 3",
   "language": "python",
   "name": "python3"
  },
  "language_info": {
   "codemirror_mode": {
    "name": "ipython",
    "version": 3
   },
   "file_extension": ".py",
   "mimetype": "text/x-python",
   "name": "python",
   "nbconvert_exporter": "python",
   "pygments_lexer": "ipython3",
   "version": "3.7.1"
  }
 },
 "nbformat": 4,
 "nbformat_minor": 2
}
