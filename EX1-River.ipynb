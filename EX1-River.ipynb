{
 "cells": [
  {
   "cell_type": "markdown",
   "metadata": {
    "colab_type": "text",
    "id": "view-in-github"
   },
   "source": [
    "<a href=\"https://colab.research.google.com/github/openearth/hydrodynamics-course-binder/blob/master/EX1-River.ipynb\" target=\"_parent\"><img src=\"https://colab.research.google.com/assets/colab-badge.svg\" alt=\"Open In Colab\"/></a>"
   ]
  },
  {
   "cell_type": "code",
   "execution_count": 1,
   "metadata": {
    "colab": {
     "base_uri": "https://localhost:8080/",
     "height": 425
    },
    "colab_type": "code",
    "id": "RDxCG8Lhtjuh",
    "outputId": "14155309-567f-4faa-9dc5-370fcb2df78d"
   },
   "outputs": [
    {
     "name": "stderr",
     "output_type": "stream",
     "text": [
      "'wget' is not recognized as an internal or external command,\n",
      "operable program or batch file.\n",
      "'unzip' is not recognized as an internal or external command,\n",
      "operable program or batch file.\n",
      "'wget' is not recognized as an internal or external command,\n",
      "operable program or batch file.\n",
      "'unzip' is not recognized as an internal or external command,\n",
      "operable program or batch file.\n",
      "'rm' is not recognized as an internal or external command,\n",
      "operable program or batch file.\n",
      "'rm' is not recognized as an internal or external command,\n",
      "operable program or batch file.\n",
      "'mv' is not recognized as an internal or external command,\n",
      "operable program or batch file.\n",
      "'chmod' is not recognized as an internal or external command,\n",
      "operable program or batch file.\n"
     ]
    },
    {
     "name": "stdout",
     "output_type": "stream",
     "text": [
      "Collecting bmi-python\n",
      "  Downloading https://files.pythonhosted.org/packages/7e/15/20c3488b8886fb9a119a1f3cf63540e37bfa40bed703cfce690d9d9c7546/bmi_python-0.2.7-py2.py3-none-any.whl\n",
      "Requirement already satisfied: setuptools in c:\\users\\platzek\\appdata\\local\\continuum\\anaconda2\\envs\\py37\\lib\\site-packages (from bmi-python) (40.8.0)\n",
      "Collecting numpy (from bmi-python)\n",
      "  Downloading https://files.pythonhosted.org/packages/3a/3c/515afabfe4f29bfc0a67037efaf518c33d0076b32d22ba865241cee295c4/numpy-1.16.2-cp37-cp37m-win_amd64.whl (11.9MB)\n",
      "Requirement already satisfied: six in c:\\users\\platzek\\appdata\\local\\continuum\\anaconda2\\envs\\py37\\lib\\site-packages (from bmi-python) (1.12.0)\n",
      "Collecting docopts (from bmi-python)\n",
      "  Downloading https://files.pythonhosted.org/packages/ba/b3/e96eebbc507ce1db0d90a139ae9af8479a1d8f87da39330a83ab204e842f/docopts-0.6.1.tar.gz\n",
      "Collecting docopt==0.6.1 (from docopts->bmi-python)\n",
      "  Downloading https://files.pythonhosted.org/packages/ec/6d/8ef19316f3b06c15ac648c857d18f171a65b50319f0a6c782392ad62d942/docopt-0.6.1.tar.gz\n",
      "Building wheels for collected packages: docopts, docopt\n",
      "  Building wheel for docopts (setup.py): started\n",
      "  Building wheel for docopts (setup.py): finished with status 'done'\n",
      "  Stored in directory: C:\\Users\\platzek\\AppData\\Local\\pip\\Cache\\wheels\\09\\5e\\38\\71648e31ba469525608f1de052396927c3db6c291963d916f5\n",
      "  Building wheel for docopt (setup.py): started\n",
      "  Building wheel for docopt (setup.py): finished with status 'done'\n",
      "  Stored in directory: C:\\Users\\platzek\\AppData\\Local\\pip\\Cache\\wheels\\68\\e2\\f6\\fc2031ff180f3b7b4250b5ca9aec4e9838b4eb19f958f03add\n",
      "Successfully built docopts docopt\n",
      "Installing collected packages: numpy, docopt, docopts, bmi-python\n",
      "Successfully installed bmi-python-0.2.7 docopt-0.6.1 docopts-0.6.1 numpy-1.16.2\n"
     ]
    },
    {
     "ename": "OSError",
     "evalue": "[WinError 126] The specified module could not be found",
     "output_type": "error",
     "traceback": [
      "\u001b[1;31m---------------------------------------------------------------------------\u001b[0m",
      "\u001b[1;31mOSError\u001b[0m                                   Traceback (most recent call last)",
      "\u001b[1;32m<ipython-input-1-bd0ae85dddb2>\u001b[0m in \u001b[0;36m<module>\u001b[1;34m\u001b[0m\n\u001b[0;32m     39\u001b[0m ]\n\u001b[0;32m     40\u001b[0m \u001b[1;32mfor\u001b[0m \u001b[0mlib\u001b[0m \u001b[1;32min\u001b[0m \u001b[0mlibs\u001b[0m\u001b[1;33m:\u001b[0m\u001b[1;33m\u001b[0m\u001b[1;33m\u001b[0m\u001b[0m\n\u001b[1;32m---> 41\u001b[1;33m   \u001b[0mhandle\u001b[0m \u001b[1;33m=\u001b[0m \u001b[0mctypes\u001b[0m\u001b[1;33m.\u001b[0m\u001b[0mCDLL\u001b[0m\u001b[1;33m(\u001b[0m\u001b[1;34m'/root/.local/lib/'\u001b[0m \u001b[1;33m+\u001b[0m \u001b[0mlib\u001b[0m\u001b[1;33m)\u001b[0m\u001b[1;33m\u001b[0m\u001b[1;33m\u001b[0m\u001b[0m\n\u001b[0m",
      "\u001b[1;32m~\\AppData\\Local\\Continuum\\anaconda2\\envs\\py37\\lib\\ctypes\\__init__.py\u001b[0m in \u001b[0;36m__init__\u001b[1;34m(self, name, mode, handle, use_errno, use_last_error)\u001b[0m\n\u001b[0;32m    354\u001b[0m \u001b[1;33m\u001b[0m\u001b[0m\n\u001b[0;32m    355\u001b[0m         \u001b[1;32mif\u001b[0m \u001b[0mhandle\u001b[0m \u001b[1;32mis\u001b[0m \u001b[1;32mNone\u001b[0m\u001b[1;33m:\u001b[0m\u001b[1;33m\u001b[0m\u001b[1;33m\u001b[0m\u001b[0m\n\u001b[1;32m--> 356\u001b[1;33m             \u001b[0mself\u001b[0m\u001b[1;33m.\u001b[0m\u001b[0m_handle\u001b[0m \u001b[1;33m=\u001b[0m \u001b[0m_dlopen\u001b[0m\u001b[1;33m(\u001b[0m\u001b[0mself\u001b[0m\u001b[1;33m.\u001b[0m\u001b[0m_name\u001b[0m\u001b[1;33m,\u001b[0m \u001b[0mmode\u001b[0m\u001b[1;33m)\u001b[0m\u001b[1;33m\u001b[0m\u001b[1;33m\u001b[0m\u001b[0m\n\u001b[0m\u001b[0;32m    357\u001b[0m         \u001b[1;32melse\u001b[0m\u001b[1;33m:\u001b[0m\u001b[1;33m\u001b[0m\u001b[1;33m\u001b[0m\u001b[0m\n\u001b[0;32m    358\u001b[0m             \u001b[0mself\u001b[0m\u001b[1;33m.\u001b[0m\u001b[0m_handle\u001b[0m \u001b[1;33m=\u001b[0m \u001b[0mhandle\u001b[0m\u001b[1;33m\u001b[0m\u001b[1;33m\u001b[0m\u001b[0m\n",
      "\u001b[1;31mOSError\u001b[0m: [WinError 126] The specified module could not be found"
     ]
    }
   ],
   "source": [
    "version = 63401\n",
    "url = \"https://s3-eu-west-1.amazonaws.com/model-inventory/binaries/DIMRset-2.05.03/oss_artifacts_lnx64_gnu_{}.zip\".format(version)\n",
    "artifact = \"oss_artifacts_lnx64_gnu_{}.zip\".format(version)\n",
    "modelurl = \"https://s3-eu-west-1.amazonaws.com/model-inventory/models/c015_manning_schematic_river.zip\".format(version)\n",
    "modelzip = \"c015_manning_schematic_river.zip\".format(version)\n",
    "\n",
    "# download FM\n",
    "!wget -c $url\n",
    "# unzip\n",
    "!unzip -q -o $artifact\n",
    "\n",
    "# download model\n",
    "!wget -c $modelurl\n",
    "# unzip\n",
    "!unzip -q -o $modelzip\n",
    "\n",
    "# get rid of this file, breaks the system\n",
    "!rm lnx64/lib/libstdc++.so.6\n",
    "# clear old version\n",
    "!rm -r ~/.local/lib\n",
    "# copy to path\n",
    "!mv lnx64/lib /root/.local\n",
    "# fix inconsistent rights\n",
    "!chmod 755 ~/.local/lib/*\n",
    "\n",
    "# install python packages\n",
    "!pip install bmi-python\n",
    "\n",
    "# load dependencies\n",
    "import ctypes\n",
    "\n",
    "# for some reason I have to load all dependencies. \n",
    "# Maybe the libtool finalize did not run or something\n",
    "# Make sure we add a centos/debian build so we don't have to do this by hand\n",
    "libs = [\n",
    "    'libnefis.so.0', 'libsigwatch.so.0', 'libgfortran.so.3', 'libhdf5.so.9',\n",
    "    'libhdf5_hl.so.9', 'libnetcdf.so.7', 'libnetcdff.so.6', 'libmpi.so.12',\n",
    "    'libmpifort.so.12', 'libmpicxx.so.12', 'libpetsc.so', 'libmetis.so'\n",
    "]\n",
    "for lib in libs:\n",
    "  handle = ctypes.CDLL('/root/.local/lib/' + lib)\n"
   ]
  },
  {
   "cell_type": "code",
   "execution_count": null,
   "metadata": {
    "colab": {},
    "colab_type": "code",
    "id": "CNhY0BD_tpg5"
   },
   "outputs": [],
   "source": [
    "import bmi.wrapper\n",
    "import ipywidgets as widgets\n",
    "from ipywidgets import HBox, VBox, interactive, Layout, interact\n",
    "import numpy as np\n",
    "import logging\n",
    "import threading\n",
    "import time"
   ]
  },
  {
   "cell_type": "code",
   "execution_count": null,
   "metadata": {
    "colab": {
     "base_uri": "https://localhost:8080/",
     "height": 85
    },
    "colab_type": "code",
    "id": "nbJvcaGGL1hG",
    "outputId": "c46c058e-1640-45c5-aaa2-480cccf816d4"
   },
   "outputs": [],
   "source": [
    "!ls"
   ]
  },
  {
   "cell_type": "code",
   "execution_count": null,
   "metadata": {
    "colab": {},
    "colab_type": "code",
    "id": "iqSbg4Nm-yMu"
   },
   "outputs": [],
   "source": [
    "model = bmi.wrapper.BMIWrapper('dflowfm')\n",
    "mdufile = \"./c015_manning_schematic_river/manning_schematic_river.mdu\""
   ]
  },
  {
   "cell_type": "code",
   "execution_count": null,
   "metadata": {
    "colab": {},
    "colab_type": "code",
    "id": "1pH-EFaEPXyv"
   },
   "outputs": [],
   "source": [
    "# TODO: make sure you have a model available\n",
    "model.initialize(mdufile)"
   ]
  },
  {
   "cell_type": "code",
   "execution_count": null,
   "metadata": {
    "colab": {
     "base_uri": "https://localhost:8080/",
     "height": 34
    },
    "colab_type": "code",
    "id": "MDX2RpW5DxCI",
    "outputId": "dd112809-51e5-48f8-ae29-e71e4677c328"
   },
   "outputs": [],
   "source": [
    "model.get_end_time()"
   ]
  },
  {
   "cell_type": "code",
   "execution_count": null,
   "metadata": {
    "colab": {},
    "colab_type": "code",
    "id": "I1AkL8KlDztq"
   },
   "outputs": [],
   "source": []
  }
 ],
 "metadata": {
  "colab": {
   "collapsed_sections": [],
   "include_colab_link": true,
   "name": "index.ipynb",
   "provenance": [],
   "version": "0.3.2"
  },
  "kernelspec": {
   "display_name": "Python 3",
   "language": "python",
   "name": "python3"
  },
  "language_info": {
   "codemirror_mode": {
    "name": "ipython",
    "version": 3
   },
   "file_extension": ".py",
   "mimetype": "text/x-python",
   "name": "python",
   "nbconvert_exporter": "python",
   "pygments_lexer": "ipython3",
   "version": "3.7.2"
  }
 },
 "nbformat": 4,
 "nbformat_minor": 1
}
