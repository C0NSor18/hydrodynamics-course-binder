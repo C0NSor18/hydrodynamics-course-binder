{
  "nbformat": 4,
  "nbformat_minor": 0,
  "metadata": {
    "colab": {
      "name": "index.ipynb",
      "version": "0.3.2",
      "provenance": [],
      "collapsed_sections": [],
      "include_colab_link": true
    },
    "kernelspec": {
      "name": "python3",
      "display_name": "Python 3"
    }
  },
  "cells": [
    {
      "cell_type": "markdown",
      "metadata": {
        "id": "view-in-github",
        "colab_type": "text"
      },
      "source": [
        "<a href=\"https://colab.research.google.com/github/openearth/hydrodynamics-course-binder/blob/master/EX1-River.ipynb\" target=\"_parent\"><img src=\"https://colab.research.google.com/assets/colab-badge.svg\" alt=\"Open In Colab\"/></a>"
      ]
    },
    {
      "metadata": {
        "id": "RDxCG8Lhtjuh",
        "colab_type": "code",
        "outputId": "14155309-567f-4faa-9dc5-370fcb2df78d",
        "colab": {
          "base_uri": "https://localhost:8080/",
          "height": 425
        }
      },
      "cell_type": "code",
      "source": [
        "version = 63401\n",
        "url = \"https://s3-eu-west-1.amazonaws.com/model-inventory/binaries/DIMRset-2.05.03/oss_artifacts_lnx64_gnu_{}.zip\".format(version)\n",
        "artifact = \"oss_artifacts_lnx64_gnu_{}.zip\".format(version)\n",
        "modelurl = \"https://s3-eu-west-1.amazonaws.com/model-inventory/models/c015_manning_schematic_river.zip\".format(version)\n",
        "modelzip = \"c015_manning_schematic_river.zip\".format(version)\n",
        "\n",
        "# download FM\n",
        "!wget -c $url\n",
        "# unzip\n",
        "!unzip -q -o $artifact\n",
        "\n",
        "# download model\n",
        "!wget -c $modelurl\n",
        "# unzip\n",
        "!unzip -q -o $modelzip\n",
        "\n",
        "# get rid of this file, breaks the system\n",
        "!rm lnx64/lib/libstdc++.so.6\n",
        "# clear old version\n",
        "!rm -r ~/.local/lib\n",
        "# copy to path\n",
        "!mv lnx64/lib /root/.local\n",
        "# fix inconsistent rights\n",
        "!chmod 755 ~/.local/lib/*\n",
        "\n",
        "# install python packages\n",
        "!pip install bmi-python\n",
        "\n",
        "# load dependencies\n",
        "import ctypes\n",
        "\n",
        "# for some reason I have to load all dependencies. \n",
        "# Maybe the libtool finalize did not run or something\n",
        "# Make sure we add a centos/debian build so we don't have to do this by hand\n",
        "libs = [\n",
        "    'libnefis.so.0', 'libsigwatch.so.0', 'libgfortran.so.3', 'libhdf5.so.9',\n",
        "    'libhdf5_hl.so.9', 'libnetcdf.so.7', 'libnetcdff.so.6', 'libmpi.so.12',\n",
        "    'libmpifort.so.12', 'libmpicxx.so.12', 'libpetsc.so', 'libmetis.so'\n",
        "]\n",
        "for lib in libs:\n",
        "  handle = ctypes.CDLL('/root/.local/lib/' + lib)\n"
      ],
      "execution_count": 53,
      "outputs": [
        {
          "output_type": "stream",
          "text": [
            "--2019-03-12 11:45:42--  https://s3-eu-west-1.amazonaws.com/model-inventory/binaries/DIMRset-2.05.03/oss_artifacts_lnx64_gnu_63401.zip\n",
            "Resolving s3-eu-west-1.amazonaws.com (s3-eu-west-1.amazonaws.com)... 52.218.20.140\n",
            "Connecting to s3-eu-west-1.amazonaws.com (s3-eu-west-1.amazonaws.com)|52.218.20.140|:443... connected.\n",
            "HTTP request sent, awaiting response... 416 Requested Range Not Satisfiable\n",
            "\n",
            "    The file is already fully retrieved; nothing to do.\n",
            "\n",
            "--2019-03-12 11:45:47--  https://s3-eu-west-1.amazonaws.com/model-inventory/models/c015_manning_schematic_river.zip\n",
            "Resolving s3-eu-west-1.amazonaws.com (s3-eu-west-1.amazonaws.com)... 52.218.105.194\n",
            "Connecting to s3-eu-west-1.amazonaws.com (s3-eu-west-1.amazonaws.com)|52.218.105.194|:443... connected.\n",
            "HTTP request sent, awaiting response... 200 OK\n",
            "Length: 247217 (241K) [application/zip]\n",
            "Saving to: ‘c015_manning_schematic_river.zip’\n",
            "\n",
            "c015_manning_schema 100%[===================>] 241.42K   833KB/s    in 0.3s    \n",
            "\n",
            "2019-03-12 11:45:47 (833 KB/s) - ‘c015_manning_schematic_river.zip’ saved [247217/247217]\n",
            "\n",
            "Requirement already satisfied: bmi-python in /usr/local/lib/python3.6/dist-packages (0.2.7)\n",
            "Requirement already satisfied: numpy in /usr/local/lib/python3.6/dist-packages (from bmi-python) (1.14.6)\n",
            "Requirement already satisfied: six in /usr/local/lib/python3.6/dist-packages (from bmi-python) (1.11.0)\n",
            "Requirement already satisfied: setuptools in /usr/local/lib/python3.6/dist-packages (from bmi-python) (40.8.0)\n",
            "Requirement already satisfied: docopts in /usr/local/lib/python3.6/dist-packages (from bmi-python) (0.6.1)\n",
            "Requirement already satisfied: docopt==0.6.1 in /usr/local/lib/python3.6/dist-packages (from docopts->bmi-python) (0.6.1)\n"
          ],
          "name": "stdout"
        }
      ]
    },
    {
      "metadata": {
        "id": "CNhY0BD_tpg5",
        "colab_type": "code",
        "colab": {}
      },
      "cell_type": "code",
      "source": [
        "import bmi.wrapper\n",
        "import ipywidgets as widgets\n",
        "from ipywidgets import HBox, VBox, interactive, Layout, interact\n",
        "import numpy as np\n",
        "import logging\n",
        "import threading\n",
        "import time"
      ],
      "execution_count": 0,
      "outputs": []
    },
    {
      "metadata": {
        "id": "nbJvcaGGL1hG",
        "colab_type": "code",
        "colab": {
          "base_uri": "https://localhost:8080/",
          "height": 85
        },
        "outputId": "c46c058e-1640-45c5-aaa2-480cccf816d4"
      },
      "cell_type": "code",
      "source": [
        "!ls"
      ],
      "execution_count": 55,
      "outputs": [
        {
          "output_type": "stream",
          "text": [
            "c015_manning_schematic_river\t  oss_artifacts_lnx64_gnu_63401.zip\n",
            "c015_manning_schematic_river.zip  sample_data\n",
            "DFM_OUTPUT_test\t\t\t  t-D6wXY61I2D\n",
            "lnx64\n"
          ],
          "name": "stdout"
        }
      ]
    },
    {
      "metadata": {
        "id": "iqSbg4Nm-yMu",
        "colab_type": "code",
        "colab": {}
      },
      "cell_type": "code",
      "source": [
        "model = bmi.wrapper.BMIWrapper('dflowfm')\n",
        "mdufile = \"./c015_manning_schematic_river/manning_schematic_river.mdu\""
      ],
      "execution_count": 0,
      "outputs": []
    },
    {
      "metadata": {
        "id": "1pH-EFaEPXyv",
        "colab_type": "code",
        "colab": {}
      },
      "cell_type": "code",
      "source": [
        "# TODO: make sure you have a model available\n",
        "model.initialize(mdufile)"
      ],
      "execution_count": 0,
      "outputs": []
    },
    {
      "metadata": {
        "id": "MDX2RpW5DxCI",
        "colab_type": "code",
        "colab": {
          "base_uri": "https://localhost:8080/",
          "height": 34
        },
        "outputId": "dd112809-51e5-48f8-ae29-e71e4677c328"
      },
      "cell_type": "code",
      "source": [
        "model.get_end_time()"
      ],
      "execution_count": 6,
      "outputs": [
        {
          "output_type": "execute_result",
          "data": {
            "text/plain": [
              "8640000.0"
            ]
          },
          "metadata": {
            "tags": []
          },
          "execution_count": 6
        }
      ]
    },
    {
      "metadata": {
        "id": "I1AkL8KlDztq",
        "colab_type": "code",
        "colab": {}
      },
      "cell_type": "code",
      "source": [
        ""
      ],
      "execution_count": 0,
      "outputs": []
    }
  ]
}