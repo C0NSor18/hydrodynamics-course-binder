{
 "cells": [
  {
   "cell_type": "markdown",
   "metadata": {},
   "source": [
    "# Exercise 5: Wind-effects on a stratified lake\n",
    "\n",
    "In this exercise we study the effects of wind on a stratified lake. For a stratified lake, wind not only generates a water level set-up, but also causes a tilt of the interface. Furthermore, the vertical profile of the horizontal velocity is affected. Here we investigate these effects and explore the sensitivity for changes in wind speed, density, and layer thicknesses.\n",
    "\n",
    "The lake is 40 km long, 40 m deep and has a 20 m thick upper layer ($h_1$ = 20 m) of 24 degrees Celsius ($\\rho_1$ = 997.3 kg/m$^3$) and a lower layer of 4 degrees Celsius ($\\rho_2$ = 999.7 kg/m$^3$).\n",
    "\n",
    "\n",
    "## 5.1)  Baroclinic tilt and vertical  circulations \n",
    "\n",
    "a)\tFrom the horizontal momentum equations for the two layer system, it can be derived that surface tilt $\\partial \\zeta / \\partial x$ and interface tilt $\\partial \\eta / \\partial x$ are related through: \n",
    "\n",
    "\\begin{equation}\n",
    "    g' \\frac{\\partial \\eta}{\\partial x} = -g \\frac{\\partial \\zeta}{\\partial x}\n",
    "\\end{equation}\n",
    "\n",
    "with \n",
    "\n",
    "\\begin{equation}\n",
    "    g' = \\frac{\\rho_2 - \\rho_1}{\\rho_1}g\n",
    "\\end{equation}\n",
    "\n",
    "The surface tilt is related to the wind stress through:\n",
    "\n",
    "\\begin{equation}\n",
    "    \\rho_1 g \\frac{\\partial \\zeta}{\\partial x} \\approx \\frac{\\tau_w}{h_1}\n",
    "\\end{equation}\n",
    "\n",
    "Use these formulas to estimate the surface and interface tilt in the lake for a wind speed of 5.0 m/s.\n",
    "\n",
    "\n",
    "b)\tSet the parameters to simulate this situation with the (3D) model and compare the estimated and computed results.\n",
    "\n",
    "c)\tInvestigate the sensitivity of the interface tilt for changes in the temperature, wind speed and depth (/thickness of the layers).\n",
    "\n",
    "d)\tBased on the two layer approach, the interface is expected to touch the water surface at the wind side of the lake for Wedderburn number $W$ < 0.5, with:\n",
    "\n",
    "\\begin{equation}\n",
    "    W = \\frac{g' H_1^2}{C_D U_w^2 L}\n",
    "\\end{equation}\n",
    "\n",
    "Estimate the wind speed for which this will happen and simulate that situation. Describe what you see.\n",
    "\n",
    "\n",
    "## 5.2)  Internal flow \n",
    "\n",
    "a)\tRun the model again with the original settings and a wind of 5.0 m/s. Once a stationary situation is obtained, pause the model, adapt the wind speed to 0.0001 m/s (i.e. practically zero), and continue the simulation. Describe what you see.\n",
    "\n",
    "b)\tAt the moment the wind speed is reduced the tilted interface starts to adjust, causing a sloshing motion. Determine the propagation speed of this perturbation.\n",
    "\n",
    "c)\tHow does this compare with the propagation speed of a surface perturbation in homogeneous water? To determine the latter, simulate the homogeneous situation by adapting the temperature and layer thicknesses (or compute it using $c = \\sqrt{g h}$).\n"
   ]
  },
  {
   "cell_type": "code",
   "execution_count": null,
   "metadata": {},
   "outputs": [],
   "source": []
  }
 ],
 "metadata": {
  "kernelspec": {
   "display_name": "Python 3",
   "language": "python",
   "name": "python3"
  },
  "language_info": {
   "codemirror_mode": {
    "name": "ipython",
    "version": 3
   },
   "file_extension": ".py",
   "mimetype": "text/x-python",
   "name": "python",
   "nbconvert_exporter": "python",
   "pygments_lexer": "ipython3",
   "version": "3.7.2"
  }
 },
 "nbformat": 4,
 "nbformat_minor": 2
}
