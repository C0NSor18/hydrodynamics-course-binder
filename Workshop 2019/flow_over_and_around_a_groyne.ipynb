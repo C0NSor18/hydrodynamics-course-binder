{
 "cells": [
  {
   "cell_type": "markdown",
   "metadata": {},
   "source": [
    "# Flow over and around a groyne"
   ]
  },
  {
   "cell_type": "markdown",
   "metadata": {},
   "source": [
    "## Purpose "
   ]
  },
  {
   "cell_type": "markdown",
   "metadata": {},
   "source": [
    "In this exercise we consider the flow over and around a groyne. In many numerical river models, groynes are represented by weirs, where the theoretical weir loss is added to the governing equations to represent the energy loss due to the structure. It would thus be interesting to investigate whether a groyne has a similar energy loss as a weir. In constrast to the previous exercises, no analytical solution is present for this case. Additionally, this case is now also a real two-dimensional (2D) case, where the flow can vary in the lateral direction. \n",
    "\n",
    "As in the weir case. we consider two-dimensional flow with a ’subgrid’ weir. The difference is now that the weir extends only halfway across the channel, representing a groyne. Again, ’subgrid’ refers to the fact that the weir is represented as a thin wall on a cell edge. A different approach would be to represent the weir as an increased bed level in one/more cell(s), which would mean that the grid resolution would determine how well the weir is resolved. To avoid this, the weir is represented by a vertical ’wall’ on a cell face. In other words, the bottom topography is flat, i.e. all cells have a constant flat bed, only one cell edge (with two cell corners) has a raised bed level."
   ]
  },
  {
   "cell_type": "markdown",
   "metadata": {},
   "source": [
    "## Aim"
   ]
  },
  {
   "cell_type": "markdown",
   "metadata": {},
   "source": [
    "For this exercise there are four aims. \n",
    "\n",
    "1) Investigate how the energy loss due to a groyne compares to that of a weir. Does a groyne behave like a weir? <br>\n",
    "2) Investigate how the energy loss due to the groyne depends on the boundary conditions. <br>\n",
    "3) Investigate whether for a submerged groyne also a hydraulic jump develops as for the weir. <br>\n",
    "4) Investigate the effect of the bottom friction coefficient on eddy dynamics. <br>\n"
   ]
  },
  {
   "cell_type": "markdown",
   "metadata": {},
   "source": [
    "## Approach"
   ]
  },
  {
   "cell_type": "markdown",
   "metadata": {},
   "source": [
    "The groyne can be emerged or submerged, depending on the upstream and downstream water levels (or the flow discharge). When the groyne is submerged, the flow can be compared to that over the weir, from the previous exercise, and the flow regime can again be subcritical (for high water stages and submergence ratios) or supercritical (for lower water stages). For the supercritical flow condition, the flow on top of the groyne will again be critical and and could think that the (specific) discharge (at least close to the groyne foot) would be close to the maximum possible discharge as it was computed for the weir case: $q_{critical}$. For the groyne, this specific discharge would be:\n",
    "\n",
    "$q_{critical} = \\frac{2}{3}E_{up}\\sqrt{\\frac{2}{3}gE_{up}}$ .\n",
    "\n",
    "As one can see, this discharge would again be dependent only on the upstream energy head, as for the weir. However, the flow can also go around the groyne and the water upstream and downstream of the groyne are, therefore, connected. It can expected that the discharge over the groyne will only be independent of the downstream water level, if the flow adjacent to the groyne (in the main channel) is also supercritical, which it could become due to the flow contraction that is formed by the groyne. We will qualitatively analyze, whether the flow over and around the groyne has similarities with the weir case."
   ]
  },
  {
   "cell_type": "markdown",
   "metadata": {},
   "source": [
    "## Model description"
   ]
  },
  {
   "cell_type": "markdown",
   "metadata": {},
   "source": [
    "The channel is the same channel as for the weir case, i.e. its length $L$ is 300 m and its width $B$ is 90 m. The Chézy coefficient is now chosen a bit lower (more rough bed) $C$ = 65 m$^{1/2}$/s. At the upstream boundary we will prescribe the a water level of $\\zeta$ = 1.0 m and at the downstream boundary a water level of $\\zeta$ = 0.7 m. For this case the groyne will be emerged, since the groyne crest height is 1.0 m above the bottom of the channel.\n",
    "\n",
    "The channel is simulated on a moderately fine grid with cell sizes equal to 2.5 x 2.5 m. The grid and the rest of the model components are displayed in Figure 1."
   ]
  },
  {
   "cell_type": "markdown",
   "metadata": {},
   "source": [
    "<img src=\"./figures/grid_with_groyne_bcs_obs_and_vel_vectors.png\" alt=\"Drawing\" style=\"float: left\" style=\"width: 800px;\"/>"
   ]
  },
  {
   "cell_type": "markdown",
   "metadata": {},
   "source": [
    "Figure 1: Flow over and around a groyne: Computational grid, open boundaries and the position of the groyne. The bed level is 0.0 m (w.r.t. reference), except at the cell edges where the groyne is located, at which the bed level is 1.0 m (w.r.t. reference). The flow is from left to right. Colored velocity vectors are shown to illustrate the vortex shedding behind the groyne in the emerged case. The \"eye\" symbols mark the observation points used to study the output time series."
   ]
  },
  {
   "cell_type": "markdown",
   "metadata": {},
   "source": [
    "Now we can start the exercise. Follow the steps below to inspect the different model states (emerged and submerged groyne flow) and try different settings for the model parameters."
   ]
  },
  {
   "cell_type": "markdown",
   "metadata": {},
   "source": [
    "## Step 1a)"
   ]
  },
  {
   "cell_type": "markdown",
   "metadata": {},
   "source": [
    "Specify a water level of $\\zeta$ = 1.0 at the upstream boundary and a water level of $\\zeta$ = 0.7 m at the downstream boundary, corresponding to emerged groyne flow situation described above. Verify that indeed such a flow situation is reproduced by the model. What is the discharge through the channel?\n",
    "\n",
    "In this case, we prescribed the energy loss in the channel to be $\\zeta_{in} - \\zeta_{out}$ = 0.3 m, just as for the weir case (where it was (2 - 1.7 = 0.3 m). The difference is now that the flow goes around the hydraulic structure. How does the discharge compare to that of the weir case ($Q$ = 163.182 m$^3$/s)? Can you explain the difference between the two cases?"
   ]
  },
  {
   "cell_type": "markdown",
   "metadata": {},
   "source": [
    "## Step 1b)"
   ]
  },
  {
   "cell_type": "markdown",
   "metadata": {},
   "source": [
    "What happens if we increase the Chézy bed roughness, lowering the bottom friction? Inspect what happes to the discharge.\n",
    "What happens to the flow dynamics? \n",
    "\n",
    "You will notice that when lowering the bottom friction, the flow dynamics will increase, as was to be expected. At some point, the dynamics is, however, so large that the flow the downstream boundary starts interacting with the eddies that arrive at the boundary. This may result in flow instabilities. The boundary position has been chosen too close to the area of interest (the groyne) in this case. Usually, with the presence of sufficient damping through bottom friction, this will not occur. However, one should be aware that this can happen, when strong flow dynamics (e.g. vortex shedding or wave phenomena) interact with the boundary.\n",
    "\n",
    "You can try to find a combination of boundary conditions and the bottom roughness, where this occurs."
   ]
  },
  {
   "cell_type": "markdown",
   "metadata": {},
   "source": [
    "## Step 1c)\n"
   ]
  },
  {
   "cell_type": "markdown",
   "metadata": {},
   "source": [
    "Now raise the upstream and/or downstream water levels. What happens to the flow, when the groyne gets submerged? Can you get it such that a hydraulic jump develops behind the groyne? What is then the velocity over the groyne (or the specific discharge)?\n",
    "\n",
    "What happens if you raise the downstream water level further? Can you find the point (i.e. the value of the downstream water level) at which the groyne flow regime changes to \"drowned groyne flow\"?\n",
    "\n",
    "Is the flow now indeed everywhere subcritical?\n",
    "\n",
    "With this new downstream water level, what is now the discharge?\n",
    "If you set the downstream water level to $\\zeta$ = 2.0 m as in the weir case, can you find the upstream water level that provides the same discharge as in the weir case: $Q$ = 163.182 m$^3$/s?\n",
    "Would you say that a submerged groyne behaves like a weir, providing a similar flow resistance?"
   ]
  },
  {
   "cell_type": "markdown",
   "metadata": {},
   "source": [
    "This concludes the end of this exercise."
   ]
  }
 ],
 "metadata": {
  "kernelspec": {
   "display_name": "Python 3",
   "language": "python",
   "name": "python3"
  },
  "language_info": {
   "codemirror_mode": {
    "name": "ipython",
    "version": 3
   },
   "file_extension": ".py",
   "mimetype": "text/x-python",
   "name": "python",
   "nbconvert_exporter": "python",
   "pygments_lexer": "ipython3",
   "version": "3.7.2"
  }
 },
 "nbformat": 4,
 "nbformat_minor": 2
}
