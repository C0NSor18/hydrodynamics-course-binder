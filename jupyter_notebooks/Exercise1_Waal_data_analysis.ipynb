{
 "cells": [
  {
   "cell_type": "markdown",
   "metadata": {},
   "source": [
    "# The Waal: Data analysis"
   ]
  },
  {
   "cell_type": "markdown",
   "metadata": {},
   "source": [
    "## Purpose\n",
    "\n",
    "In this exercise, we consider a 90 km long stretch of the River Waal. The River Waal is the main branch of the Rhine in the Netherlands and runs from the bifurcation of Pannerden to the Merwede bifurcation at Werkendam (see image below). Actually the stretch of river between Woudrichem and the bifurcation at Werkendam is called the River Boven Merwede, but for this exercise, we will simply call it the River Waal.  \n",
    "<br>\n",
    "<img src=\"./figures/river_waal.png\" alt=\"Drawing\" style=\"float: left\" style=\"width: 800px;\"/> \n",
    "<br>\n",
    "<br>\n",
    "<br>\n",
    "<br>\n",
    "<br>\n",
    "<br>\n",
    "<br>\n",
    "<br>\n",
    "<br>\n",
    "<br>\n",
    "<br>\n",
    "<br>\n",
    "<br>\n",
    "<br>\n",
    "<br>\n",
    "\n",
    "## Aim\n",
    "\n",
    "The purpose of this section of the excercise if to determine the boundary conditions required for your numerical model (next exercise). \n",
    "\n",
    "You have received three column seperated value (csv) files containing water level measurements at the up- and downstream locations as well as discharge values at the upstream location.\n",
    "\n",
    "## Step 1\n",
    "Create time series plots for each year for the up- and downstream waterlevels as well as the discharge for each year.</li>\n",
    "Here we list the correspondence between filename and river station: <br>\n",
    "    PANNDSKP -  Pannerden <br>\n",
    "    NIJMGHVN -  Nijmegen <br>\n",
    "    WERKDBTN -  Werkendam <br>\n",
    "    ZALTBML  -  Zaltbommel.\n",
    "    \n",
    "    \n",
    "## Step 2\n",
    "For both the up and downstream locations, plot graphs for water level vs discharge. Compare these graphs and try to explain the difference in shape.\n",
    "## Step 3\n",
    "Plot histograms for the discharge measurements with 10 bins for both the discharge and the water levels. Which values would you consider when designing dikes along the river? \n",
    "## Step 4\n",
    "The dike height you have derived is related to a flood with a certain frequency. This is expressed a one in $x$ year flood. For the value you use, what is the expected return time of the flood? </li>\n",
    "## Step 5\n",
    "At the time of Room for the Rivers, the dikes were designed for floods with a return time of 1250 years. How would you go about estimating these discharge and water levels? </li> \n",
    "\n",
    "\n",
    "<!--- \n",
    "The table below lists the dates at which the largest discharges occured during the last two decades. \n",
    "<div style=\"font-size: 10px\">\n",
    "\n",
    "\n",
    "\n",
    "|date                    |discharge       | rank               |Recurrency interval (years)| Annual exceedence Probability\n",
    "|------------------------------|-------------------|-----------------------|-------------------|---------------------|\t\t\t\t\n",
    "2000-01-01 01:00:00 |\t4304.50 |\t9.0|\t2.233645|\t0.447699|\n",
    "2001-03-27 06:00:00\t|5732.60|\t2.0|\t12.256410|\t0.081590|\n",
    "2002-03-01 22:00:00\t|5404.00|\t4.0|\t5.370787|\t0.186192|\n",
    "2003-01-06 19:00:00\t|6177.20|\t1.0|\t34.142857|\t0.029289|\n",
    "2004-01-18 19:00:00\t|4484.00|\t6.0|\t3.438849|\t0.290795|\n",
    "2005-02-17 05:00:00\t|3729.00|\t13.0|\t1.522293|\t0.656904|\n",
    "2006-03-14 09:00:00\t|3893.00|\t12.0|\t1.653979|\t0.604603|\n",
    "2007-03-06 11:00:00\t|4108.00|\t10.0|\t2.000000|\t0.500000|\n",
    "2008-03-25 10:00:00\t|3016.00|\t17.0|\t1.154589|\t0.866109|\n",
    "2009-03-14 11:00:00\t|2983.00|\t18.0|\t1.088838|\t0.918410|\n",
    "2010-12-13 19:00:00\t|3936.00|\t11.0|\t1.810606|\t0.552301|\n",
    "2011-01-16 21:00:00\t|5493.00|\t3.0|\t7.468750|\t0.133891|\n",
    "2012-01-09 19:00:00\t|4471.00|\t7.0|\t2.914634|\t0.343096|\n",
    "2013-01-01 00:30:00\t|4330.74|\t8.0|\t2.529101|\t0.395397|\n",
    "2014-12-23 14:10:00\t|2242.46|\t19.0|\t1.030172|\t0.970711|\n",
    "2015-01-14 17:50:00\t|3072.09|\t16.0|\t1.228792|\t0.813808|\n",
    "2016-02-13 13:10:00\t|3491.62|\t14.0|\t1.410029|\t0.709205|\n",
    "2017-12-17 21:10:00\t|3356.87|\t15.0|\t1.313187|\t0.761506|\n",
    "2018-01-09 23:30:00\t|4867.00|\t5.0|\t4.192982|\t0.238494|\n",
    "</div >\n",
    "\n",
    "The probability of exceedance $P_e$ that one or more floods occurring during any period will exceed a given flood threshhold can be expressed, using the binomial distribution as\n",
    "$$P_e = 1-\\left[1-(\\frac{1}{T})\\right]^n$$\n",
    "where $T$ is the threshhold return period (e.g. 100-yr, 50-yr etc.), and $n$ is the number of years in the period. The probability of exceedance $P_e$ is also described as the hydrologic risk of failure. --> \n"
   ]
  },
  {
   "cell_type": "markdown",
   "metadata": {},
   "source": [
    "For this exercise you may find it useful to access the online documentation \n",
    "[Matplotlib](https://matplotlib.org/api/_as_gen/matplotlib.pyplot.html#module-matplotlib.pyplot), \n",
    "[Pandas](http://pandas.pydata.org/pandas-docs/stable/user_guide/index.html), \n",
    "[Numpy](https://docs.scipy.org/doc/numpy-1.14.1/genindex.html).\n"
   ]
  },
  {
   "cell_type": "markdown",
   "metadata": {},
   "source": [
    "If you want to use the capabilities of Pandas: <br>\n",
    "Note that the frequency of the observations may vary per station or per parameter. [You can use the resample function of pandas to deal with this](https://pandas.pydata.org/pandas-docs/stable/reference/api/pandas.DataFrame.resample.html).<br>\n",
    "You also can use [the Pandas' merge function](https://pandas.pydata.org/pandas-docs/stable/user_guide/merging.html). To join different dataframes. "
   ]
  },
  {
   "cell_type": "code",
   "execution_count": null,
   "metadata": {},
   "outputs": [],
   "source": []
  }
 ],
 "metadata": {
  "kernelspec": {
   "display_name": "Python 3",
   "language": "python",
   "name": "python3"
  },
  "language_info": {
   "codemirror_mode": {
    "name": "ipython",
    "version": 3
   },
   "file_extension": ".py",
   "mimetype": "text/x-python",
   "name": "python",
   "nbconvert_exporter": "python",
   "pygments_lexer": "ipython3",
   "version": "3.6.8"
  }
 },
 "nbformat": 4,
 "nbformat_minor": 2
}
