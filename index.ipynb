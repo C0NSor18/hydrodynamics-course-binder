{
  "nbformat": 4,
  "nbformat_minor": 0,
  "metadata": {
    "colab": {
      "name": "index.ipynb",
      "version": "0.3.2",
      "provenance": [],
      "collapsed_sections": [],
      "include_colab_link": true
    },
    "kernelspec": {
      "name": "python3",
      "display_name": "Python 3"
    }
  },
  "cells": [
    {
      "cell_type": "markdown",
      "metadata": {
        "id": "view-in-github",
        "colab_type": "text"
      },
      "source": [
        "<a href=\"https://colab.research.google.com/github/openearth/hydrodynamics-course-binder/blob/master/index.ipynb\" target=\"_parent\"><img src=\"https://colab.research.google.com/assets/colab-badge.svg\" alt=\"Open In Colab\"/></a>"
      ]
    },
    {
      "metadata": {
        "id": "RDxCG8Lhtjuh",
        "colab_type": "code",
        "outputId": "e0d23cce-f02e-4f55-8742-2086c7ddc4a9",
        "colab": {
          "base_uri": "https://localhost:8080/",
          "height": 251
        }
      },
      "cell_type": "code",
      "source": [
        "version = 63401\n",
        "url = \"https://s3-eu-west-1.amazonaws.com/model-inventory/binaries/DIMRset-2.05.03/oss_artifacts_lnx64_gnu_{}.zip\".format(version)\n",
        "artifact = \"oss_artifacts_lnx64_gnu_{}.zip\".format(version)\n",
        "\n",
        "# download FM\n",
        "!wget -c $url\n",
        "# unzip\n",
        "!unzip -q -o $artifact\n",
        "# get rid of this file, breaks the system\n",
        "!rm lnx64/lib/libstdc++.so.6\n",
        "# clear old version\n",
        "!rm -r ~/.local/lib\n",
        "# copy to path\n",
        "!mv lnx64/lib /root/.local\n",
        "# fix inconsistent rights\n",
        "!chmod 755 ~/.local/lib/*\n",
        "\n",
        "# install python packages\n",
        "!pip install bmi-python\n",
        "\n",
        "# load dependencies\n",
        "import ctypes\n",
        "\n",
        "# for some reason I have to load all dependencies. \n",
        "# Maybe the libtool finalize did not run or something\n",
        "# Make sure we add a centos/debian build so we don't have to do this by hand\n",
        "libs = [\n",
        "    'libnefis.so.0', 'libsigwatch.so.0', 'libgfortran.so.3', 'libhdf5.so.9',\n",
        "    'libhdf5_hl.so.9', 'libnetcdf.so.7', 'libnetcdff.so.6', 'libmpi.so.12',\n",
        "    'libmpifort.so.12', 'libmpicxx.so.12', 'libpetsc.so', 'libmetis.so'\n",
        "]\n",
        "for lib in libs:\n",
        "  handle = ctypes.CDLL('/root/.local/lib/' + lib)\n"
      ],
      "execution_count": 1,
      "outputs": [
        {
          "output_type": "stream",
          "text": [
            "--2019-03-10 20:24:48--  https://s3-eu-west-1.amazonaws.com/model-inventory/binaries/DIMRset-2.05.03/oss_artifacts_lnx64_gnu_63401.zip\n",
            "Resolving s3-eu-west-1.amazonaws.com (s3-eu-west-1.amazonaws.com)... 52.218.80.68\n",
            "Connecting to s3-eu-west-1.amazonaws.com (s3-eu-west-1.amazonaws.com)|52.218.80.68|:443... connected.\n",
            "HTTP request sent, awaiting response... 416 Requested Range Not Satisfiable\n",
            "\n",
            "    The file is already fully retrieved; nothing to do.\n",
            "\n",
            "Requirement already satisfied: bmi-python in /usr/local/lib/python3.6/dist-packages (0.2.7)\n",
            "Requirement already satisfied: setuptools in /usr/local/lib/python3.6/dist-packages (from bmi-python) (40.8.0)\n",
            "Requirement already satisfied: numpy in /usr/local/lib/python3.6/dist-packages (from bmi-python) (1.14.6)\n",
            "Requirement already satisfied: six in /usr/local/lib/python3.6/dist-packages (from bmi-python) (1.11.0)\n",
            "Requirement already satisfied: docopts in /usr/local/lib/python3.6/dist-packages (from bmi-python) (0.6.1)\n",
            "Requirement already satisfied: docopt==0.6.1 in /usr/local/lib/python3.6/dist-packages (from docopts->bmi-python) (0.6.1)\n"
          ],
          "name": "stdout"
        }
      ]
    },
    {
      "metadata": {
        "id": "CNhY0BD_tpg5",
        "colab_type": "code",
        "colab": {}
      },
      "cell_type": "code",
      "source": [
        "import bmi.wrapper"
      ],
      "execution_count": 0,
      "outputs": []
    },
    {
      "metadata": {
        "id": "iqSbg4Nm-yMu",
        "colab_type": "code",
        "colab": {}
      },
      "cell_type": "code",
      "source": [
        "model = bmi.wrapper.BMIWrapper('dflowfm')"
      ],
      "execution_count": 0,
      "outputs": []
    },
    {
      "metadata": {
        "id": "1pH-EFaEPXyv",
        "colab_type": "code",
        "colab": {}
      },
      "cell_type": "code",
      "source": [
        "# TODO: make sure you have a model available\n",
        "model.initialize('./test.mdu')"
      ],
      "execution_count": 0,
      "outputs": []
    }
  ]
}