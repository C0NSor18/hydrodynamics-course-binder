{
 "cells": [
  {
   "cell_type": "markdown",
   "metadata": {},
   "source": [
    "# Flow over a weir"
   ]
  },
  {
   "cell_type": "markdown",
   "metadata": {},
   "source": [
    "## Purpose "
   ]
  },
  {
   "cell_type": "markdown",
   "metadata": {},
   "source": [
    "The purpose of this exercise is to investigate the (critical) flow over a weir. In the current case,\n",
    "two-dimensional flow with a ’subgrid’ weir is considered. ’Subgrid’ refers to the fact that the weir\n",
    "is represented as a thin wall on a cell edge. Another option would be to represent the weir as an\n",
    "increased bed level in one/more cell(s), which would mean that the grid resolution would determine\n",
    "how well the weir is resolved. To avoid this, the weir is represented by a vertical ’wall’ on a cell face.\n",
    "In other words, the bottom topography is flat, i.e. all cells have a constant flat bed, only one cell edge\n",
    "(with two cell corners) has a raised bed level."
   ]
  },
  {
   "cell_type": "markdown",
   "metadata": {},
   "source": [
    "## Aim"
   ]
  },
  {
   "cell_type": "markdown",
   "metadata": {},
   "source": [
    "For this exercise there are four aims. \n",
    "\n",
    "1) Investigate whether we can reproduce the theoretical energy loss that should occur over the weir at the critical discharge. <br>\n",
    "2) Verify that the flow on top of the weir crest is indeed critical. <br>\n",
    "3) Verify that the upstream flow condition is indeed independent of the downstream water level (when chosen low enough). <br>\n",
    "4) Find out at what downstream water level, the regime changes to drowned flow. <br>\n"
   ]
  },
  {
   "cell_type": "markdown",
   "metadata": {},
   "source": [
    "## Approach"
   ]
  },
  {
   "cell_type": "markdown",
   "metadata": {},
   "source": [
    "The flow condition over a weir may be subcritical (drowned weir flow) or supercritical (perfect weir flow). \n",
    "The flow regime depends on the downstream water level and the flow discharge. For the perfect weir situation, the flow on top of the weir crest is critical and the discharge is the maximum possible discharge over the weir: $Q_{critical}$. This maximum \n",
    "For supercritical flow, the discharge at the weir is completely determined by the energy head upstream. In such a case, the discharge is limited by:\n",
    "\n",
    "$Q_{critical} = B\\frac{2}{3}E_{up}\\sqrt{\\frac{2}{3}gE_{up}}$ ."
   ]
  },
  {
   "cell_type": "markdown",
   "metadata": {},
   "source": [
    "## Model description"
   ]
  },
  {
   "cell_type": "markdown",
   "metadata": {},
   "source": [
    "The channel length $L$ is 300 m and its width $B$ is 90 m. The Ch\\'ezy coefficient is 100 m$^{1/2}$/s (smooth bed). The upstream water level boundary is 2.0 m and the downstream boundary equals 1.7 m. The weir height is 1.0 m above the bottom of the channel. \n",
    "\n",
    "The channel is simulated on a grid with cell sizes equal to 10 x 10 m. The grid and the rest of the model components are displayed in Figure 1."
   ]
  },
  {
   "attachments": {},
   "cell_type": "markdown",
   "metadata": {},
   "source": [
    "<img src=\"./figures/grid_with_weir_bcs_and_obs.png\" alt=\"Drawing\" style=\"float: left\" style=\"width: 800px;\"/>"
   ]
  },
  {
   "cell_type": "markdown",
   "metadata": {},
   "source": [
    "Figure 1: Computational grid for the flow over a weir. The bed level is 0.0 m (w.r.t. reference), except at the cell edges where the weir is located, at which the bed level is 1.0 m (w.r.t. reference). The flow is from left to right. The \"eye\" symbols mark the observation points used to study the output time series."
   ]
  },
  {
   "cell_type": "markdown",
   "metadata": {},
   "source": [
    "For this situation, the discharge will be critical over the top of the weir. The energy height upstream (w.r.t. the weir crest level) is:\n",
    "\n",
    "$E_{up} = \\zeta_{up} - z_c + \\frac{u_{up}^2}{2g}$\n",
    "\n",
    "where $z_c$ is the crest level of the weir. $E_{up}$ is approximately equal to the difference between the upstream water level and the crest level, i.e. 1.0 m. The exact value, however, depends on the flow velocity upstream, which in turn depends on the resulting discharge. This velocity can be computed by solving a cubic relation. The resulting velocity is $u_{up}$ = 0.9066 m/s. Its derivation can be found in the appendix. The resulting exact upstream energy head is thus $E_{up}$ = 1.0419 m. The corresponding critical discharge is:\n",
    "\n",
    "$Q_{critical} =  163.182 m ^3/s$ .\n",
    "\n",
    "On top of the weir the Froude number $Fr = u/\\sqrt{gH} = 1$. The flow velocity on the crest can be verified to be $u_c$ = 2.6104 m/s, with a corresponding depth at the crest of $H_c$ = 0.6946 m. This can be derived by assuming a constant energy head from the upstream section to the weir crest section (see the appendix). Indeed, this depth corresponds with the theoretical value of $H_c$ = 2/3 $E_{up}$."
   ]
  },
  {
   "cell_type": "markdown",
   "metadata": {},
   "source": [
    "Now we can start the exercise. Follow the steps below to inspect the different model states (perfect and drowned weir flow) and try different settings for the model parameters."
   ]
  },
  {
   "cell_type": "markdown",
   "metadata": {},
   "source": [
    "## Step 1a)"
   ]
  },
  {
   "cell_type": "markdown",
   "metadata": {},
   "source": [
    "Specify the critical discharge at the upstream boundary and a water level of 1.7 m at the downstream boundary, corresponding to the perfect (supercritical) weir flow situation described above. Verify that indeed such a flow situation is reproduced by the model. Do we obtain the correct upstream water level of $\\zeta_{up}$ = 2 m?"
   ]
  },
  {
   "cell_type": "markdown",
   "metadata": {},
   "source": [
    "## Step 1b)"
   ]
  },
  {
   "cell_type": "markdown",
   "metadata": {},
   "source": [
    "Can you think of a reason why prescibing the downstream water level to be exactly the $H_{eq}$ did not suffice?\n",
    "A hint: At what position (x-coordinate) is the downstream water level boundary prescribed? Does the bed slope then influence the required boundary condition? Can you prescribed a different downstream boundary water level, to obtain the equilibrium depth of $H_{eq}$ = 4 m?\n",
    "\n",
    "At this point you should have obtained a nice uniform channel flow with constant water depth and constant flow velocity. Can you compute the flow velocity? "
   ]
  },
  {
   "cell_type": "markdown",
   "metadata": {},
   "source": [
    "## Step 1c)\n"
   ]
  },
  {
   "cell_type": "markdown",
   "metadata": {},
   "source": [
    "Can you try a different combination of the discharge $Q$ and the Chézy coefficient $C$, that also gives an equilibrium depth of 4 m?"
   ]
  },
  {
   "cell_type": "markdown",
   "metadata": {},
   "source": [
    "This concludes the end of the first part of the exercise. The second part will focus on the Bélanger or backwater curves."
   ]
  },
  {
   "cell_type": "markdown",
   "metadata": {},
   "source": [
    "## Step 1d)"
   ]
  },
  {
   "cell_type": "markdown",
   "metadata": {},
   "source": [
    "Try and increase the bottom friction coefficient, for instance by 10%. What do you expect?\n",
    "Now decrease the bottom friction coefficient, for instance by a factor of 2. What do you expect now?"
   ]
  },
  {
   "cell_type": "markdown",
   "metadata": {},
   "source": [
    "## Step 1e)"
   ]
  },
  {
   "cell_type": "markdown",
   "metadata": {},
   "source": []
  },
  {
   "cell_type": "code",
   "execution_count": null,
   "metadata": {},
   "outputs": [],
   "source": []
  }
 ],
 "metadata": {
  "kernelspec": {
   "display_name": "Python 3",
   "language": "python",
   "name": "python3"
  },
  "language_info": {
   "codemirror_mode": {
    "name": "ipython",
    "version": 3
   },
   "file_extension": ".py",
   "mimetype": "text/x-python",
   "name": "python",
   "nbconvert_exporter": "python",
   "pygments_lexer": "ipython3",
   "version": "3.7.2"
  }
 },
 "nbformat": 4,
 "nbformat_minor": 2
}
